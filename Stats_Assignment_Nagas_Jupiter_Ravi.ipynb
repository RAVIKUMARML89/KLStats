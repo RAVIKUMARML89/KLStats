{
 "cells": [
  {
   "cell_type": "code",
   "execution_count": 69,
   "id": "a37ca03e",
   "metadata": {
    "colab": {
     "base_uri": "https://localhost:8080/",
     "height": 623
    },
    "id": "a37ca03e",
    "outputId": "d2c613b9-ffcc-4b7f-e65d-e9c08e6fe220"
   },
   "outputs": [
    {
     "data": {
      "text/html": [
       "<div>\n",
       "<style scoped>\n",
       "    .dataframe tbody tr th:only-of-type {\n",
       "        vertical-align: middle;\n",
       "    }\n",
       "\n",
       "    .dataframe tbody tr th {\n",
       "        vertical-align: top;\n",
       "    }\n",
       "\n",
       "    .dataframe thead th {\n",
       "        text-align: right;\n",
       "    }\n",
       "</style>\n",
       "<table border=\"1\" class=\"dataframe\">\n",
       "  <thead>\n",
       "    <tr style=\"text-align: right;\">\n",
       "      <th></th>\n",
       "      <th>Location</th>\n",
       "      <th>Price</th>\n",
       "      <th>Rooms</th>\n",
       "      <th>Bathrooms</th>\n",
       "      <th>Car Parks</th>\n",
       "      <th>No of Storey</th>\n",
       "      <th>Property Type</th>\n",
       "      <th>Position</th>\n",
       "      <th>Type</th>\n",
       "      <th>Size</th>\n",
       "      <th>Furnishing</th>\n",
       "    </tr>\n",
       "  </thead>\n",
       "  <tbody>\n",
       "    <tr>\n",
       "      <th>0</th>\n",
       "      <td>KLCC, Kuala Lumpur</td>\n",
       "      <td>1250000.0</td>\n",
       "      <td>3</td>\n",
       "      <td>3</td>\n",
       "      <td>2</td>\n",
       "      <td>0.0</td>\n",
       "      <td>Serviced Residence</td>\n",
       "      <td>Unknown</td>\n",
       "      <td>Built-up</td>\n",
       "      <td>1335</td>\n",
       "      <td>Fully Furnished</td>\n",
       "    </tr>\n",
       "    <tr>\n",
       "      <th>1</th>\n",
       "      <td>Damansara Heights, Kuala Lumpur</td>\n",
       "      <td>6800000.0</td>\n",
       "      <td>6</td>\n",
       "      <td>7</td>\n",
       "      <td>0</td>\n",
       "      <td>0.0</td>\n",
       "      <td>Bungalow</td>\n",
       "      <td>Unknown</td>\n",
       "      <td>Land area</td>\n",
       "      <td>6900</td>\n",
       "      <td>Partly Furnished</td>\n",
       "    </tr>\n",
       "    <tr>\n",
       "      <th>2</th>\n",
       "      <td>Dutamas, Kuala Lumpur</td>\n",
       "      <td>1030000.0</td>\n",
       "      <td>3</td>\n",
       "      <td>4</td>\n",
       "      <td>2</td>\n",
       "      <td>0.0</td>\n",
       "      <td>Condominium</td>\n",
       "      <td>Corner</td>\n",
       "      <td>Built-up</td>\n",
       "      <td>1875</td>\n",
       "      <td>Partly Furnished</td>\n",
       "    </tr>\n",
       "    <tr>\n",
       "      <th>3</th>\n",
       "      <td>Cheras, Kuala Lumpur</td>\n",
       "      <td>NaN</td>\n",
       "      <td>0</td>\n",
       "      <td>0</td>\n",
       "      <td>0</td>\n",
       "      <td>0.0</td>\n",
       "      <td>NaN</td>\n",
       "      <td>Unknown</td>\n",
       "      <td>Unknown</td>\n",
       "      <td>0</td>\n",
       "      <td>Unknown</td>\n",
       "    </tr>\n",
       "    <tr>\n",
       "      <th>4</th>\n",
       "      <td>Bukit Jalil, Kuala Lumpur</td>\n",
       "      <td>900000.0</td>\n",
       "      <td>5</td>\n",
       "      <td>3</td>\n",
       "      <td>2</td>\n",
       "      <td>0.0</td>\n",
       "      <td>Condominium</td>\n",
       "      <td>Corner</td>\n",
       "      <td>Built-up</td>\n",
       "      <td>1513</td>\n",
       "      <td>Partly Furnished</td>\n",
       "    </tr>\n",
       "    <tr>\n",
       "      <th>5</th>\n",
       "      <td>Taman Tun Dr Ismail, Kuala Lumpur</td>\n",
       "      <td>5350000.0</td>\n",
       "      <td>6</td>\n",
       "      <td>5</td>\n",
       "      <td>4</td>\n",
       "      <td>0.0</td>\n",
       "      <td>Bungalow</td>\n",
       "      <td>Unknown</td>\n",
       "      <td>Land area</td>\n",
       "      <td>7200</td>\n",
       "      <td>Partly Furnished</td>\n",
       "    </tr>\n",
       "    <tr>\n",
       "      <th>6</th>\n",
       "      <td>Seputeh, Kuala Lumpur</td>\n",
       "      <td>NaN</td>\n",
       "      <td>0</td>\n",
       "      <td>0</td>\n",
       "      <td>0</td>\n",
       "      <td>0.0</td>\n",
       "      <td>NaN</td>\n",
       "      <td>Unknown</td>\n",
       "      <td>Unknown</td>\n",
       "      <td>0</td>\n",
       "      <td>Unknown</td>\n",
       "    </tr>\n",
       "    <tr>\n",
       "      <th>7</th>\n",
       "      <td>Taman Tun Dr Ismail, Kuala Lumpur</td>\n",
       "      <td>2600000.0</td>\n",
       "      <td>5</td>\n",
       "      <td>4</td>\n",
       "      <td>4</td>\n",
       "      <td>0.0</td>\n",
       "      <td>Semi-detached House</td>\n",
       "      <td>Unknown</td>\n",
       "      <td>Land area</td>\n",
       "      <td>3600</td>\n",
       "      <td>Partly Furnished</td>\n",
       "    </tr>\n",
       "    <tr>\n",
       "      <th>8</th>\n",
       "      <td>Taman Tun Dr Ismail, Kuala Lumpur</td>\n",
       "      <td>1950000.0</td>\n",
       "      <td>5</td>\n",
       "      <td>4</td>\n",
       "      <td>3</td>\n",
       "      <td>2.0</td>\n",
       "      <td>Terrace/Link House</td>\n",
       "      <td>EndLot</td>\n",
       "      <td>Land area</td>\n",
       "      <td>1875</td>\n",
       "      <td>Partly Furnished</td>\n",
       "    </tr>\n",
       "    <tr>\n",
       "      <th>9</th>\n",
       "      <td>Sri Petaling, Kuala Lumpur</td>\n",
       "      <td>385000.0</td>\n",
       "      <td>3</td>\n",
       "      <td>2</td>\n",
       "      <td>1</td>\n",
       "      <td>0.0</td>\n",
       "      <td>Apartment</td>\n",
       "      <td>Intermediate</td>\n",
       "      <td>Built-up</td>\n",
       "      <td>904</td>\n",
       "      <td>Partly Furnished</td>\n",
       "    </tr>\n",
       "  </tbody>\n",
       "</table>\n",
       "</div>"
      ],
      "text/plain": [
       "                            Location      Price  Rooms  Bathrooms  Car Parks  \\\n",
       "0                 KLCC, Kuala Lumpur  1250000.0      3          3          2   \n",
       "1    Damansara Heights, Kuala Lumpur  6800000.0      6          7          0   \n",
       "2              Dutamas, Kuala Lumpur  1030000.0      3          4          2   \n",
       "3               Cheras, Kuala Lumpur        NaN      0          0          0   \n",
       "4          Bukit Jalil, Kuala Lumpur   900000.0      5          3          2   \n",
       "5  Taman Tun Dr Ismail, Kuala Lumpur  5350000.0      6          5          4   \n",
       "6              Seputeh, Kuala Lumpur        NaN      0          0          0   \n",
       "7  Taman Tun Dr Ismail, Kuala Lumpur  2600000.0      5          4          4   \n",
       "8  Taman Tun Dr Ismail, Kuala Lumpur  1950000.0      5          4          3   \n",
       "9         Sri Petaling, Kuala Lumpur   385000.0      3          2          1   \n",
       "\n",
       "   No of Storey        Property Type      Position        Type  Size  \\\n",
       "0           0.0   Serviced Residence       Unknown   Built-up   1335   \n",
       "1           0.0             Bungalow       Unknown  Land area   6900   \n",
       "2           0.0          Condominium        Corner   Built-up   1875   \n",
       "3           0.0                  NaN       Unknown     Unknown     0   \n",
       "4           0.0          Condominium        Corner   Built-up   1513   \n",
       "5           0.0             Bungalow       Unknown  Land area   7200   \n",
       "6           0.0                  NaN       Unknown     Unknown     0   \n",
       "7           0.0  Semi-detached House       Unknown  Land area   3600   \n",
       "8           2.0  Terrace/Link House         EndLot  Land area   1875   \n",
       "9           0.0           Apartment   Intermediate   Built-up    904   \n",
       "\n",
       "         Furnishing  \n",
       "0   Fully Furnished  \n",
       "1  Partly Furnished  \n",
       "2  Partly Furnished  \n",
       "3           Unknown  \n",
       "4  Partly Furnished  \n",
       "5  Partly Furnished  \n",
       "6           Unknown  \n",
       "7  Partly Furnished  \n",
       "8  Partly Furnished  \n",
       "9  Partly Furnished  "
      ]
     },
     "execution_count": 69,
     "metadata": {},
     "output_type": "execute_result"
    }
   ],
   "source": [
    "#importing data management, data visualisation libraries.\n",
    "import numpy as np\n",
    "import pandas as pd\n",
    "import matplotlib.pyplot as plt\n",
    "import seaborn as sns\n",
    "\n",
    "#GitURL='https://github.com/RAVIKUMARML89/KLStats/blob/Ravi/KL_Real_Estate_datacleanv2.xlsx'\n",
    "\n",
    "df= pd.read_excel('/Users/Z002KG2/Downloads/KL_Real_Estate_dataclean_v3.xlsx')\n",
    "\n",
    "df.head(10)"
   ]
  },
  {
   "cell_type": "code",
   "execution_count": 70,
   "id": "b40b0594",
   "metadata": {
    "colab": {
     "base_uri": "https://localhost:8080/"
    },
    "id": "b40b0594",
    "outputId": "2fea5c29-7637-4046-f157-0b8a11146646"
   },
   "outputs": [
    {
     "data": {
      "text/plain": [
       "4784"
      ]
     },
     "execution_count": 70,
     "metadata": {},
     "output_type": "execute_result"
    }
   ],
   "source": [
    "df.duplicated().sum()"
   ]
  },
  {
   "cell_type": "code",
   "execution_count": 71,
   "id": "46f337c9",
   "metadata": {
    "id": "46f337c9"
   },
   "outputs": [],
   "source": [
    "df.drop_duplicates(inplace=True)"
   ]
  },
  {
   "cell_type": "code",
   "execution_count": 72,
   "id": "bf8275da",
   "metadata": {
    "id": "bf8275da"
   },
   "outputs": [],
   "source": [
    "df.drop(columns=['Type'], inplace=True)"
   ]
  },
  {
   "cell_type": "code",
   "execution_count": 73,
   "id": "a9b58db0",
   "metadata": {
    "id": "a9b58db0"
   },
   "outputs": [],
   "source": [
    "df.fillna(value={'Car Parks':0, 'Furnishing': 'Unknown', 'Property Type':'Unknown', 'No of Sty':0, 'Bathrooms':0, 'No of Storey': 0}, inplace=True)"
   ]
  },
  {
   "cell_type": "code",
   "execution_count": 74,
   "id": "c021a14d",
   "metadata": {
    "colab": {
     "base_uri": "https://localhost:8080/"
    },
    "id": "c021a14d",
    "outputId": "a358d5da-853d-4701-abdc-543dabfbd104"
   },
   "outputs": [
    {
     "data": {
      "text/plain": [
       "Location           0\n",
       "Price            218\n",
       "Rooms              0\n",
       "Bathrooms          0\n",
       "Car Parks          0\n",
       "No of Storey       0\n",
       "Property Type      0\n",
       "Position           0\n",
       "Size               0\n",
       "Furnishing         0\n",
       "dtype: int64"
      ]
     },
     "execution_count": 74,
     "metadata": {},
     "output_type": "execute_result"
    }
   ],
   "source": [
    "df.isna().sum()"
   ]
  },
  {
   "cell_type": "code",
   "execution_count": 75,
   "id": "6cc5dcbc",
   "metadata": {
    "id": "6cc5dcbc"
   },
   "outputs": [],
   "source": [
    "df.dropna(inplace=True)"
   ]
  },
  {
   "cell_type": "code",
   "execution_count": 76,
   "id": "b642b7a0",
   "metadata": {
    "colab": {
     "base_uri": "https://localhost:8080/"
    },
    "id": "b642b7a0",
    "outputId": "67670d87-7984-4506-9b6f-3fd17196d96c"
   },
   "outputs": [
    {
     "data": {
      "text/plain": [
       "Location         0\n",
       "Price            0\n",
       "Rooms            0\n",
       "Bathrooms        0\n",
       "Car Parks        0\n",
       "No of Storey     0\n",
       "Property Type    0\n",
       "Position         0\n",
       "Size             0\n",
       "Furnishing       0\n",
       "dtype: int64"
      ]
     },
     "execution_count": 76,
     "metadata": {},
     "output_type": "execute_result"
    }
   ],
   "source": [
    "df.isna().sum()"
   ]
  },
  {
   "cell_type": "code",
   "execution_count": 77,
   "id": "bzdpRfF_TaRG",
   "metadata": {
    "id": "bzdpRfF_TaRG"
   },
   "outputs": [],
   "source": [
    "replace_dict = {\n",
    "'Pandan Indah, Kuala Lumpur'\t:'Others',\n",
    "'Pandan Jaya, Kuala Lumpur'\t:'Others',\n",
    "'Pandan Perdana, Kuala Lumpur'\t:'Others',\n",
    "'Pantai, Kuala Lumpur'\t:'Others',\n",
    "'Petaling Jaya, Kuala Lumpur'\t:'Others',\n",
    "'Puchong, Kuala Lumpur'\t:'Others',\n",
    "'Rawang, Kuala Lumpur'\t:'Others',\n",
    "'Salak Selatan, Kuala Lumpur'\t:'Others',\n",
    "'Santuari Park Pantai, Kuala Lumpur'\t:'Others',\n",
    "'Segambut, Kuala Lumpur'\t:'Others',\n",
    "'SEMARAK, Kuala Lumpur'\t:'Others',\n",
    "'Sentul, Kuala Lumpur'\t:'Others',\n",
    "'Seputeh, Kuala Lumpur'\t:'Others',\n",
    "'Seri Kembangan, Kuala Lumpur'\t:'Others',\n",
    "'Setapak, Kuala Lumpur'\t:'Others',\n",
    "'Setiawangsa, Kuala Lumpur'\t:'Others',\n",
    "'Singapore, Kuala Lumpur'\t:'Others',\n",
    "'Solaris Dutamas, Kuala Lumpur'\t:'Others',\n",
    "'Sri Damansara, Kuala Lumpur'\t:'Others',\n",
    "'Sri Hartamas, Kuala Lumpur'\t:'Others',\n",
    "'Sri Kembangan, Kuala Lumpur'\t:'Others',\n",
    "'Sri Petaling, Kuala Lumpur'\t:'Others',\n",
    "'Sungai Besi, Kuala Lumpur'\t:'Others',\n",
    "'Sungai Long SL8, Kuala Lumpur'\t:'Others',\n",
    "'Sungai Penchala, Kuala Lumpur'\t:'Others',\n",
    "'Sunway SPK, Kuala Lumpur'\t:'Others',\n",
    "'taman cheras perdana, Kuala Lumpur'\t:'Others',\n",
    "'taman connaught, Kuala Lumpur'\t:'Others',\n",
    "'Taman Desa, Kuala Lumpur'\t:'Others',\n",
    "'Taman Duta, Kuala Lumpur'\t:'Others',\n",
    "'Taman Ibukota, Kuala Lumpur'\t:'Others',\n",
    "'TAMAN MELATI, Kuala Lumpur'\t:'Others',\n",
    "'Taman Melawati, Kuala Lumpur'\t:'Others',\n",
    "'Taman Sri Keramat, Kuala Lumpur'\t:'Others',\n",
    "'Taman TAR, Kuala Lumpur'\t:'Others',\n",
    "'Taman Tijani Ukay, Kuala Lumpur'\t:'Others',\n",
    "'Taman Tun Dr Ismail, Kuala Lumpur'\t:'Others',\n",
    "'Taman Wangsa Permai, Kuala Lumpur'\t:'Others',\n",
    "'Taman Yarl OUG, Kuala Lumpur'\t:'Others',\n",
    "'Taman Yarl, Kuala Lumpur'\t:'Others',\n",
    "'Taman Yarl, UOG, Kuala Lumpur'\t:'Others',\n",
    "'Taming Jaya, Kuala Lumpur'\t:'Others',\n",
    "'The Mines Resort, Kuala Lumpur'\t:'Others',\n",
    "'Titiwangsa, Kuala Lumpur'\t:'Others',\n",
    "'Ukay Heights, Kuala Lumpur'\t:'Others',\n",
    "'UTHANT, Kuala Lumpur'\t:'Others',\n",
    "'Wangsa Maju, Kuala Lumpur'\t:'Others',\n",
    "'Wangsa Melawati, Kuala Lumpur'\t:'Others'\n",
    "}\n",
    "\n",
    "df['Location'] = df['Location'].replace(replace_dict)"
   ]
  },
  {
   "cell_type": "code",
   "execution_count": 78,
   "id": "xjf9vbtJTpMt",
   "metadata": {
    "id": "xjf9vbtJTpMt"
   },
   "outputs": [],
   "source": [
    "replace_dict1 = {\n",
    "'Condominium (Corner)'\t:'Others',\n",
    "'Condominium (Duple)'\t:'Others',\n",
    "'Condominium (EndLot)'\t:'Others',\n",
    "'Condominium (Intermediate)'\t:'Others',\n",
    "'Condominium (Penthouse)'\t:'Others',\n",
    "'Condominium (SOHO)'\t:'Others',\n",
    "'Condominium (Studio)'\t:'Others',\n",
    "'Condominium (Triple)'\t:'Others',\n",
    "'Flat'\t:'Others',\n",
    "'Flat (Corner)'\t:'Others',\n",
    "'Flat (EndLot)'\t:'Others',\n",
    "'Flat (Intermediate)'\t:'Others',\n",
    "'Flat (Penthouse)'\t:'Others',\n",
    "'Residential Land'\t:'Others',\n",
    "'Residential Land (Corner)'\t:'Others',\n",
    "'Residential Land (EndLot)'\t:'Others',\n",
    "'Residential Land (Intermediate)'\t:'Others',\n",
    "'Semi-detached House'\t:'Others',\n",
    "'Semi-detached House (Corner)'\t:'Others',\n",
    "'Semi-detached House (Duple)'\t:'Others',\n",
    "'Semi-detached House (EndLot)'\t:'Others',\n",
    "'Semi-detached House (Intermediate)'\t:'Others',\n",
    "'Semi-detached House (SOHO)'\t:'Others',\n",
    "'Semi-detached House (Triple)'\t:'Others',\n",
    "'Serviced Residence'\t:'Others',\n",
    "'Serviced Residence (Corner)'\t:'Others',\n",
    "'Serviced Residence (Duple)'\t:'Others',\n",
    "'Serviced Residence (EndLot)'\t:'Others',\n",
    "'Serviced Residence (Intermediate)'\t:'Others',\n",
    "'Serviced Residence (Penthouse)'\t:'Others',\n",
    "'Serviced Residence (SOHO)'\t:'Others',\n",
    "'Serviced Residence (Studio)'\t:'Others',\n",
    "'Serviced Residence (Triple)'\t:'Others',\n",
    "'Townhouse'\t:'Others',\n",
    "'Townhouse (Corner)'\t:'Others',\n",
    "'Townhouse (Duple)'\t:'Others',\n",
    "'Townhouse (EndLot)'\t:'Others',\n",
    "'Townhouse (Intermediate)'\t:'Others',\n",
    "}\n",
    "\n",
    "df['Property Type'] = df['Property Type'].replace(replace_dict1)"
   ]
  },
  {
   "cell_type": "code",
   "execution_count": 16,
   "id": "983d3979",
   "metadata": {
    "id": "983d3979"
   },
   "outputs": [],
   "source": [
    "#df['No of Sty'] = df['No of Sty'].str.replace('-sty', '')"
   ]
  },
  {
   "cell_type": "code",
   "execution_count": 17,
   "id": "fd21ee75",
   "metadata": {
    "id": "fd21ee75"
   },
   "outputs": [],
   "source": [
    "#df.fillna(value={'No of Sty': 0}, inplace=True)"
   ]
  },
  {
   "cell_type": "code",
   "execution_count": 79,
   "id": "OnPWcTHDUVFi",
   "metadata": {
    "colab": {
     "base_uri": "https://localhost:8080/"
    },
    "id": "OnPWcTHDUVFi",
    "outputId": "5574da50-a48a-4eee-d0e1-9cf82dc3e069"
   },
   "outputs": [
    {
     "name": "stdout",
     "output_type": "stream",
     "text": [
      "<class 'pandas.core.frame.DataFrame'>\n",
      "Index: 48881 entries, 0 to 53882\n",
      "Data columns (total 10 columns):\n",
      " #   Column         Non-Null Count  Dtype  \n",
      "---  ------         --------------  -----  \n",
      " 0   Location       48881 non-null  object \n",
      " 1   Price          48881 non-null  float64\n",
      " 2   Rooms          48881 non-null  int64  \n",
      " 3   Bathrooms      48881 non-null  int64  \n",
      " 4   Car Parks      48881 non-null  int64  \n",
      " 5   No of Storey   48881 non-null  float64\n",
      " 6   Property Type  48881 non-null  object \n",
      " 7   Position       48881 non-null  object \n",
      " 8   Size           48881 non-null  float64\n",
      " 9   Furnishing     48881 non-null  object \n",
      "dtypes: float64(3), int64(3), object(4)\n",
      "memory usage: 4.1+ MB\n"
     ]
    }
   ],
   "source": [
    "df['Size'] = df['Size'].replace(' Kuala Lumpur',0)\n",
    "df['Size'] = df['Size'].replace(' Malaysia',1)\n",
    "df['Size'] = df['Size'].astype(float)\n",
    "df['Size']=df['Size'].replace(0,df['Size'].mean())\n",
    "df['Size']=df['Size'].replace(1,df['Size'].mean())\n",
    "df.info()"
   ]
  },
  {
   "cell_type": "code",
   "execution_count": 19,
   "id": "c8745fb0",
   "metadata": {
    "id": "c8745fb0"
   },
   "outputs": [],
   "source": [
    "#df['No of Sty'] = df['No of Sty'].astype(float)\n",
    "#df['Car Parks'] = df['Car Parks'].astype(int)\n",
    "#df['Size'] = df['Size'].astype(float)"
   ]
  },
  {
   "cell_type": "code",
   "execution_count": 46,
   "id": "62058652",
   "metadata": {
    "colab": {
     "base_uri": "https://localhost:8080/"
    },
    "id": "62058652",
    "outputId": "28d68c5b-6aef-4f2e-cc15-2ba9e85bacfa"
   },
   "outputs": [
    {
     "name": "stdout",
     "output_type": "stream",
     "text": [
      "<class 'pandas.core.frame.DataFrame'>\n",
      "Index: 53635 entries, 0 to 53882\n",
      "Data columns (total 10 columns):\n",
      " #   Column         Non-Null Count  Dtype  \n",
      "---  ------         --------------  -----  \n",
      " 0   Location       53635 non-null  int64  \n",
      " 1   Price          53635 non-null  float64\n",
      " 2   Rooms          53635 non-null  int64  \n",
      " 3   Bathrooms      53635 non-null  int64  \n",
      " 4   Car Parks      53635 non-null  int64  \n",
      " 5   No of Storey   53635 non-null  float64\n",
      " 6   Property Type  53635 non-null  int64  \n",
      " 7   Position       53635 non-null  int64  \n",
      " 8   Size           53635 non-null  float64\n",
      " 9   Furnishing     53635 non-null  int64  \n",
      "dtypes: float64(3), int64(7)\n",
      "memory usage: 4.5 MB\n"
     ]
    }
   ],
   "source": [
    "df.info()"
   ]
  },
  {
   "cell_type": "code",
   "execution_count": 80,
   "id": "09492a7d",
   "metadata": {
    "id": "09492a7d",
    "outputId": "be02af96-61ee-4232-eb88-b0cd8bbf5391"
   },
   "outputs": [
    {
     "data": {
      "text/plain": [
       "Location         0\n",
       "Price            0\n",
       "Rooms            0\n",
       "Bathrooms        0\n",
       "Car Parks        0\n",
       "No of Storey     0\n",
       "Property Type    0\n",
       "Position         0\n",
       "Size             0\n",
       "Furnishing       0\n",
       "dtype: int64"
      ]
     },
     "execution_count": 80,
     "metadata": {},
     "output_type": "execute_result"
    }
   ],
   "source": [
    "df.isna().sum()"
   ]
  },
  {
   "cell_type": "code",
   "execution_count": 82,
   "id": "f3064648",
   "metadata": {},
   "outputs": [
    {
     "data": {
      "image/png": "[encoded data removed]",
      "text/plain": [
       "<Figure size 640x480 with 1 Axes>"
      ]
     },
     "metadata": {},
     "output_type": "display_data"
    },
    {
     "data": {
      "image/png": "[encoded data removed]",
      "text/plain": [
       "<Figure size 640x480 with 1 Axes>"
      ]
     },
     "metadata": {},
     "output_type": "display_data"
    },
    {
     "data": {
      "image/png": "[encoded data removed]",
      "text/plain": [
       "<Figure size 640x480 with 1 Axes>"
      ]
     },
     "metadata": {},
     "output_type": "display_data"
    },
    {
     "data": {
      "image/png": "[encoded data removed]",
      "text/plain": [
       "<Figure size 640x480 with 1 Axes>"
      ]
     },
     "metadata": {},
     "output_type": "display_data"
    },
    {
     "data": {
      "image/png": "[encoded data removed]",
      "text/plain": [
       "<Figure size 640x480 with 1 Axes>"
      ]
     },
     "metadata": {},
     "output_type": "display_data"
    },
    {
     "data": {
      "image/png": "[encoded data removed]",
      "text/plain": [
       "<Figure size 640x480 with 1 Axes>"
      ]
     },
     "metadata": {},
     "output_type": "display_data"
    }
   ],
   "source": [
    "import seaborn as sns\n",
    "import matplotlib.pyplot as plt\n",
    "\n",
    "\n",
    "Variables= ['Price', 'Rooms', 'Bathrooms', 'Car Parks', 'No of Storey','Size']\n",
    "\n",
    "# Create a box plot\n",
    "for var in Variables:\n",
    "  sns.boxplot(data=df, x=var)\n",
    "  plt.title(\"Histogram of {}\". format(var))\n",
    "  plt.show()"
   ]
  },
  {
   "cell_type": "code",
   "execution_count": 87,
   "id": "45efeb07",
   "metadata": {},
   "outputs": [
    {
     "data": {
      "text/plain": [
       "<Axes: >"
      ]
     },
     "execution_count": 87,
     "metadata": {},
     "output_type": "execute_result"
    },
    {
     "data": {
      "image/png": "[encoded data removed]",
      "text/plain": [
       "<Figure size 2000x2000 with 2 Axes>"
      ]
     },
     "metadata": {},
     "output_type": "display_data"
    }
   ],
   "source": [
    "df1 = df[['Price', 'Rooms', 'Bathrooms', 'Car Parks', 'No of Storey','Size']]\n",
    "\n",
    "import seaborn as sns\n",
    "plt.figure(figsize=(20,20))\n",
    "sns.heatmap(df1.corr(), annot=True)"
   ]
  },
  {
   "cell_type": "code",
   "execution_count": 88,
   "id": "2057fe06",
   "metadata": {
    "colab": {
     "base_uri": "https://localhost:8080/",
     "height": 586
    },
    "id": "2057fe06",
    "outputId": "55683fba-cb81-47ea-941a-0db4e6e0040c",
    "scrolled": true
   },
   "outputs": [
    {
     "name": "stdout",
     "output_type": "stream",
     "text": [
      "Location: 0.5212\n",
      "Rooms: 0.5107\n",
      "Bathrooms: 0.6402\n",
      "Car Parks: 0.2989\n",
      "No of Storey: 0.0812\n",
      "Property Type: 0.4910\n",
      "Position: 0.1492\n",
      "Size: 1.2155\n",
      "Furnishing: 0.1790\n"
     ]
    },
    {
     "data": {
      "image/png": "[encoded data removed]",
      "text/plain": [
       "<Figure size 640x480 with 1 Axes>"
      ]
     },
     "metadata": {},
     "output_type": "display_data"
    }
   ],
   "source": [
    "import pandas as pd\n",
    "from sklearn.feature_selection import mutual_info_classif\n",
    "from sklearn.preprocessing import LabelEncoder\n",
    "\n",
    "df.head(10)\n",
    "\n",
    "# Encode categorical variables with LabelEncoder\n",
    "encoder = LabelEncoder()\n",
    "df['Location'] = encoder.fit_transform(df['Location'])\n",
    "df['Property Type'] = encoder.fit_transform(df['Property Type'])\n",
    "df['Position'] = encoder.fit_transform(df['Position'])\n",
    "df['Furnishing'] = encoder.fit_transform(df['Furnishing'])\n",
    "\n",
    "# features (X) and target variable (y)\n",
    "X = df.drop(columns=['Price'])\n",
    "y = df['Price']\n",
    "\n",
    "# Compute mutual information scores\n",
    "mi_scores = mutual_info_classif(X, y)\n",
    "\n",
    "# Print feature importance scores\n",
    "for feature, score in zip(X.columns, mi_scores):\n",
    "    print(f\"{feature}: {score:.4f}\")\n",
    "\n",
    "\n",
    "feat_importances = pd.Series(mi_scores, X.columns[0:len(df.columns)])\n",
    "feat_importances.plot(kind='barh', color = 'teal')\n",
    "plt.show()"
   ]
  },
  {
   "cell_type": "code",
   "execution_count": 24,
   "id": "9168a876",
   "metadata": {},
   "outputs": [
    {
     "data": {
      "text/html": [
       "<div>\n",
       "<style scoped>\n",
       "    .dataframe tbody tr th:only-of-type {\n",
       "        vertical-align: middle;\n",
       "    }\n",
       "\n",
       "    .dataframe tbody tr th {\n",
       "        vertical-align: top;\n",
       "    }\n",
       "\n",
       "    .dataframe thead th {\n",
       "        text-align: right;\n",
       "    }\n",
       "</style>\n",
       "<table border=\"1\" class=\"dataframe\">\n",
       "  <thead>\n",
       "    <tr style=\"text-align: right;\">\n",
       "      <th></th>\n",
       "      <th>Location</th>\n",
       "      <th>Price</th>\n",
       "      <th>Rooms</th>\n",
       "      <th>Bathrooms</th>\n",
       "      <th>Car Parks</th>\n",
       "      <th>No of Storey</th>\n",
       "      <th>Property Type</th>\n",
       "      <th>Position</th>\n",
       "      <th>Size</th>\n",
       "      <th>Furnishing</th>\n",
       "    </tr>\n",
       "  </thead>\n",
       "  <tbody>\n",
       "    <tr>\n",
       "      <th>47383</th>\n",
       "      <td>23</td>\n",
       "      <td>810000.0</td>\n",
       "      <td>4</td>\n",
       "      <td>2</td>\n",
       "      <td>2</td>\n",
       "      <td>0.0</td>\n",
       "      <td>5</td>\n",
       "      <td>8</td>\n",
       "      <td>1700.0</td>\n",
       "      <td>2</td>\n",
       "    </tr>\n",
       "    <tr>\n",
       "      <th>26587</th>\n",
       "      <td>83</td>\n",
       "      <td>1550000.0</td>\n",
       "      <td>5</td>\n",
       "      <td>5</td>\n",
       "      <td>2</td>\n",
       "      <td>3.0</td>\n",
       "      <td>7</td>\n",
       "      <td>3</td>\n",
       "      <td>1920.0</td>\n",
       "      <td>2</td>\n",
       "    </tr>\n",
       "    <tr>\n",
       "      <th>4465</th>\n",
       "      <td>94</td>\n",
       "      <td>1500000.0</td>\n",
       "      <td>5</td>\n",
       "      <td>3</td>\n",
       "      <td>2</td>\n",
       "      <td>0.0</td>\n",
       "      <td>5</td>\n",
       "      <td>8</td>\n",
       "      <td>2000.0</td>\n",
       "      <td>1</td>\n",
       "    </tr>\n",
       "    <tr>\n",
       "      <th>40087</th>\n",
       "      <td>16</td>\n",
       "      <td>308000.0</td>\n",
       "      <td>2</td>\n",
       "      <td>2</td>\n",
       "      <td>1</td>\n",
       "      <td>0.0</td>\n",
       "      <td>1</td>\n",
       "      <td>3</td>\n",
       "      <td>726.0</td>\n",
       "      <td>2</td>\n",
       "    </tr>\n",
       "    <tr>\n",
       "      <th>19230</th>\n",
       "      <td>2</td>\n",
       "      <td>16335000.0</td>\n",
       "      <td>4</td>\n",
       "      <td>4</td>\n",
       "      <td>30</td>\n",
       "      <td>0.0</td>\n",
       "      <td>3</td>\n",
       "      <td>3</td>\n",
       "      <td>21780.0</td>\n",
       "      <td>0</td>\n",
       "    </tr>\n",
       "    <tr>\n",
       "      <th>12152</th>\n",
       "      <td>88</td>\n",
       "      <td>1250000.0</td>\n",
       "      <td>4</td>\n",
       "      <td>3</td>\n",
       "      <td>0</td>\n",
       "      <td>2.0</td>\n",
       "      <td>7</td>\n",
       "      <td>3</td>\n",
       "      <td>1870.0</td>\n",
       "      <td>3</td>\n",
       "    </tr>\n",
       "    <tr>\n",
       "      <th>42822</th>\n",
       "      <td>31</td>\n",
       "      <td>815000.0</td>\n",
       "      <td>3</td>\n",
       "      <td>2</td>\n",
       "      <td>2</td>\n",
       "      <td>0.0</td>\n",
       "      <td>5</td>\n",
       "      <td>8</td>\n",
       "      <td>1253.0</td>\n",
       "      <td>2</td>\n",
       "    </tr>\n",
       "    <tr>\n",
       "      <th>21274</th>\n",
       "      <td>94</td>\n",
       "      <td>1400000.0</td>\n",
       "      <td>3</td>\n",
       "      <td>2</td>\n",
       "      <td>0</td>\n",
       "      <td>0.0</td>\n",
       "      <td>6</td>\n",
       "      <td>8</td>\n",
       "      <td>1684.0</td>\n",
       "      <td>0</td>\n",
       "    </tr>\n",
       "    <tr>\n",
       "      <th>31184</th>\n",
       "      <td>29</td>\n",
       "      <td>1060000.0</td>\n",
       "      <td>3</td>\n",
       "      <td>3</td>\n",
       "      <td>0</td>\n",
       "      <td>0.0</td>\n",
       "      <td>5</td>\n",
       "      <td>8</td>\n",
       "      <td>1389.0</td>\n",
       "      <td>1</td>\n",
       "    </tr>\n",
       "    <tr>\n",
       "      <th>40498</th>\n",
       "      <td>31</td>\n",
       "      <td>580000.0</td>\n",
       "      <td>3</td>\n",
       "      <td>3</td>\n",
       "      <td>2</td>\n",
       "      <td>0.0</td>\n",
       "      <td>5</td>\n",
       "      <td>8</td>\n",
       "      <td>1614.0</td>\n",
       "      <td>1</td>\n",
       "    </tr>\n",
       "    <tr>\n",
       "      <th>4707</th>\n",
       "      <td>23</td>\n",
       "      <td>380000.0</td>\n",
       "      <td>3</td>\n",
       "      <td>2</td>\n",
       "      <td>0</td>\n",
       "      <td>0.0</td>\n",
       "      <td>5</td>\n",
       "      <td>8</td>\n",
       "      <td>800.0</td>\n",
       "      <td>0</td>\n",
       "    </tr>\n",
       "    <tr>\n",
       "      <th>9543</th>\n",
       "      <td>14</td>\n",
       "      <td>1360000.0</td>\n",
       "      <td>3</td>\n",
       "      <td>2</td>\n",
       "      <td>2</td>\n",
       "      <td>0.0</td>\n",
       "      <td>6</td>\n",
       "      <td>0</td>\n",
       "      <td>1555.0</td>\n",
       "      <td>0</td>\n",
       "    </tr>\n",
       "    <tr>\n",
       "      <th>42245</th>\n",
       "      <td>45</td>\n",
       "      <td>5180000.0</td>\n",
       "      <td>4</td>\n",
       "      <td>4</td>\n",
       "      <td>2</td>\n",
       "      <td>0.0</td>\n",
       "      <td>5</td>\n",
       "      <td>8</td>\n",
       "      <td>2250.0</td>\n",
       "      <td>1</td>\n",
       "    </tr>\n",
       "    <tr>\n",
       "      <th>49382</th>\n",
       "      <td>104</td>\n",
       "      <td>470000.0</td>\n",
       "      <td>3</td>\n",
       "      <td>2</td>\n",
       "      <td>1</td>\n",
       "      <td>0.0</td>\n",
       "      <td>1</td>\n",
       "      <td>3</td>\n",
       "      <td>998.0</td>\n",
       "      <td>1</td>\n",
       "    </tr>\n",
       "    <tr>\n",
       "      <th>53474</th>\n",
       "      <td>23</td>\n",
       "      <td>1300000.0</td>\n",
       "      <td>5</td>\n",
       "      <td>0</td>\n",
       "      <td>0</td>\n",
       "      <td>3.0</td>\n",
       "      <td>7</td>\n",
       "      <td>3</td>\n",
       "      <td>1800.0</td>\n",
       "      <td>1</td>\n",
       "    </tr>\n",
       "  </tbody>\n",
       "</table>\n",
       "</div>"
      ],
      "text/plain": [
       "       Location       Price  Rooms  Bathrooms  Car Parks  No of Storey  \\\n",
       "47383        23    810000.0      4          2          2           0.0   \n",
       "26587        83   1550000.0      5          5          2           3.0   \n",
       "4465         94   1500000.0      5          3          2           0.0   \n",
       "40087        16    308000.0      2          2          1           0.0   \n",
       "19230         2  16335000.0      4          4         30           0.0   \n",
       "12152        88   1250000.0      4          3          0           2.0   \n",
       "42822        31    815000.0      3          2          2           0.0   \n",
       "21274        94   1400000.0      3          2          0           0.0   \n",
       "31184        29   1060000.0      3          3          0           0.0   \n",
       "40498        31    580000.0      3          3          2           0.0   \n",
       "4707         23    380000.0      3          2          0           0.0   \n",
       "9543         14   1360000.0      3          2          2           0.0   \n",
       "42245        45   5180000.0      4          4          2           0.0   \n",
       "49382       104    470000.0      3          2          1           0.0   \n",
       "53474        23   1300000.0      5          0          0           3.0   \n",
       "\n",
       "       Property Type  Position     Size  Furnishing  \n",
       "47383              5         8   1700.0           2  \n",
       "26587              7         3   1920.0           2  \n",
       "4465               5         8   2000.0           1  \n",
       "40087              1         3    726.0           2  \n",
       "19230              3         3  21780.0           0  \n",
       "12152              7         3   1870.0           3  \n",
       "42822              5         8   1253.0           2  \n",
       "21274              6         8   1684.0           0  \n",
       "31184              5         8   1389.0           1  \n",
       "40498              5         8   1614.0           1  \n",
       "4707               5         8    800.0           0  \n",
       "9543               6         0   1555.0           0  \n",
       "42245              5         8   2250.0           1  \n",
       "49382              1         3    998.0           1  \n",
       "53474              7         3   1800.0           1  "
      ]
     },
     "execution_count": 24,
     "metadata": {},
     "output_type": "execute_result"
    }
   ],
   "source": [
    "df.sample(15)"
   ]
  },
  {
   "cell_type": "code",
   "execution_count": 48,
   "id": "4c154d7b",
   "metadata": {
    "id": "4c154d7b"
   },
   "outputs": [],
   "source": [
    "X = df[['Location', 'Rooms', 'Bathrooms', 'Size', 'Property Type']]\n",
    "y = df['Price']"
   ]
  },
  {
   "cell_type": "code",
   "execution_count": 58,
   "id": "cf226466",
   "metadata": {
    "id": "cf226466"
   },
   "outputs": [],
   "source": [
    "def regressionMethods(x, y, regressionObject):\n",
    "  train_x, test_x, train_y, test_y= train_test_split(x,y,test_size=0.1, random_state=1)\n",
    "  regressionObject.fit(train_x, train_y)\n",
    "  predict_test=regressionObject.predict(test_x)\n",
    "  df_m=pd.DataFrame({'features':x.columns,'coeff':regressionObject.coef_})\n",
    "  df_m=df_m.sort_values(by=['coeff'])\n",
    "  df_m.plot(x='features', y='coeff', kind='bar', figsize=(15,10))\n",
    "  plt.show()\n",
    "  print(\"RSquare Value for TEST data is : \",  np.round(regressionObject.score(test_x, test_y)*100, 0))\n",
    "  print(\"RSquare Value for TRAIN data is : \", np.round(regressionObject.score(train_x, train_y)*100, 0))\n",
    "  print(\"MSE for Test data is : \",np.round(metrics.mean_squared_error(test_y, predict_test), 0))\n",
    "  print(\"MAE for Test data is : \",np.round(metrics.mean_absolute_error(test_y, predict_test), 0))"
   ]
  },
  {
   "cell_type": "code",
   "execution_count": 50,
   "id": "2b11cb08",
   "metadata": {
    "id": "2b11cb08"
   },
   "outputs": [],
   "source": [
    "import sklearn\n",
    "import seaborn as sns\n",
    "import sklearn\n",
    "from sklearn.model_selection import cross_validate\n",
    "from sklearn.model_selection import train_test_split\n",
    "from sklearn import metrics\n",
    "import matplotlib.pyplot as plt\n",
    "%matplotlib inline\n"
   ]
  },
  {
   "cell_type": "code",
   "execution_count": 59,
   "id": "8f67ba27",
   "metadata": {
    "colab": {
     "base_uri": "https://localhost:8080/",
     "height": 771
    },
    "id": "8f67ba27",
    "outputId": "822e4030-a28e-4f61-ab20-32f495cfd867"
   },
   "outputs": [
    {
     "data": {
      "image/png": "[encoded data removed]",
      "text/plain": [
       "<Figure size 1500x1000 with 1 Axes>"
      ]
     },
     "metadata": {},
     "output_type": "display_data"
    },
    {
     "name": "stdout",
     "output_type": "stream",
     "text": [
      "RSquare Value for TEST data is :  14.0\n",
      "RSquare Value for TRAIN data is :  1.0\n",
      "MSE for Test data is :  21601728542703.0\n",
      "MAE for Test data is :  1424153.0\n"
     ]
    }
   ],
   "source": [
    "from sklearn.linear_model import LinearRegression\n",
    "\n",
    "lm=LinearRegression()\n",
    "regressionMethods(X, y, lm)"
   ]
  },
  {
   "cell_type": "code",
   "execution_count": 60,
   "id": "6c2d3612",
   "metadata": {
    "colab": {
     "base_uri": "https://localhost:8080/"
    },
    "id": "6c2d3612",
    "outputId": "9fef3d21-1d59-4f35-f348-f73e382b6fdd"
   },
   "outputs": [
    {
     "name": "stdout",
     "output_type": "stream",
     "text": [
      "RSquare Value for TEST data is: 80.84\n",
      "RSquare Value for Train data is: 85.31\n",
      "MSE for Test data is: 7.988502220231668e-05\n",
      "MAE for Test data is: 0.000951781005099161\n"
     ]
    }
   ],
   "source": [
    "from sklearn.preprocessing import Normalizer\n",
    "\n",
    "scaler = Normalizer()\n",
    "unit_scaled_data = scaler.fit_transform(df)\n",
    "\n",
    "# Separate features (X) and target variable (y)\n",
    "#[0:'Location', 1:'Price', 2:'Rooms', 3:'Bathrooms', 4:'Car Parks', 5:'No of Storey',6:'Property Type', 7:'Position', 8:'Size', 9:'Furnishing']\n",
    "# Index 0 = Location, 2: 'Rooms', 6: 'Property Type', 8: 'Size'\n",
    "columns_to_keep = [0, 2, 6, 8]\n",
    "X_normalized = unit_scaled_data[:, columns_to_keep]\n",
    "Y_normalized = unit_scaled_data[:, 1]\n",
    "\n",
    "# Splitting the data into train and test sets\n",
    "train_x, test_x, train_y, test_y = train_test_split(X_normalized, Y_normalized, test_size=0.25, random_state=1)\n",
    "\n",
    "# Training the model\n",
    "regressionObject = LinearRegression()\n",
    "regressionObject.fit(train_x, train_y)\n",
    "\n",
    "# Predicting on the test set\n",
    "predict_test = regressionObject.predict(test_x)\n",
    "\n",
    "# Calculating evaluation metrics\n",
    "r_square_test = regressionObject.score(test_x, test_y)\n",
    "r_square_train = regressionObject.score(train_x, train_y)\n",
    "mse_test = metrics.mean_squared_error(test_y, predict_test)\n",
    "mae_test = metrics.mean_absolute_error(test_y, predict_test)\n",
    "\n",
    "# Printing the results\n",
    "print(\"RSquare Value for TEST data is:\", np.round(r_square_test * 100, 2))\n",
    "print(\"RSquare Value for Train data is:\", np.round(r_square_train * 100, 2))\n",
    "print(\"MSE for Test data is:\", mse_test)\n",
    "print(\"MAE for Test data is:\", mae_test)"
   ]
  },
  {
   "cell_type": "code",
   "execution_count": 53,
   "id": "57c04213",
   "metadata": {
    "colab": {
     "base_uri": "https://localhost:8080/"
    },
    "id": "57c04213",
    "outputId": "3a93878a-8bc5-4414-a895-5e20ce8f68a0"
   },
   "outputs": [
    {
     "data": {
      "text/plain": [
       "Index(['Location', 'Price', 'Rooms', 'Bathrooms', 'Car Parks', 'No of Storey',\n",
       "       'Property Type', 'Position', 'Size', 'Furnishing'],\n",
       "      dtype='object')"
      ]
     },
     "execution_count": 53,
     "metadata": {},
     "output_type": "execute_result"
    }
   ],
   "source": [
    "df.columns"
   ]
  },
  {
   "cell_type": "code",
   "execution_count": 31,
   "id": "b83de57b",
   "metadata": {
    "colab": {
     "base_uri": "https://localhost:8080/",
     "height": 654
    },
    "id": "b83de57b",
    "outputId": "8fdb56e7-a18b-4543-d0db-6d247d145d6e"
   },
   "outputs": [
    {
     "data": {
      "image/png": "[encoded data removed]",
      "text/plain": [
       "<Figure size 1500x1000 with 1 Axes>"
      ]
     },
     "metadata": {},
     "output_type": "display_data"
    }
   ],
   "source": [
    "x1 = pd.DataFrame(X_normalized)\n",
    "\n",
    "df_m=pd.DataFrame({'features':x1.columns,'coeff':regressionObject.coef_})\n",
    "df_m=df_m.sort_values(by=['coeff'])\n",
    "df_m.plot(x='features', y='coeff', kind='bar', figsize=(15,10))\n",
    "plt.show()"
   ]
  },
  {
   "cell_type": "code",
   "execution_count": 65,
   "id": "730a9298",
   "metadata": {
    "colab": {
     "base_uri": "https://localhost:8080/"
    },
    "id": "730a9298",
    "outputId": "a1b7d1ae-c480-4588-c239-7ad7f2f1f3a8"
   },
   "outputs": [
    {
     "name": "stdout",
     "output_type": "stream",
     "text": [
      "RSquare Value for TEST data is: 85.66\n",
      "RSquare Value for Train data is: 86.91\n",
      "MSE for Test data is: 5.9784706783897686e-05\n",
      "MAE for Test data is: 0.0008708071172778937\n"
     ]
    }
   ],
   "source": [
    "from sklearn.preprocessing import Normalizer\n",
    "\n",
    "scaler = Normalizer()\n",
    "unit_scaled_data = scaler.fit_transform(df)\n",
    "\n",
    "# Separate features (X) and target variable (y)\n",
    "#[0:'Location', 1:'Price', 2:'Rooms', 3:'Bathrooms', 4:'Car Parks', 5:'No of Storey',6:'Property Type', 7:'Position', 8:'Size', 9:'Furnishing']\n",
    "# Index 0 = Location, 2: 'Rooms', 6: 'Property Type', 8: 'Size', 9:'Furnishing'\n",
    "# All the fields \n",
    "columns_to_keep = [0, 2, 3, 4, 5, 6, 7, 8, 9]\n",
    "X_normalized = unit_scaled_data[:, columns_to_keep]\n",
    "Y_normalized = unit_scaled_data[:, 1]\n",
    "\n",
    "# Splitting the data into train and test sets\n",
    "train_x, test_x, train_y, test_y = train_test_split(X_normalized, Y_normalized, test_size=0.25, random_state=1)\n",
    "\n",
    "# Training the model\n",
    "regressionObject = LinearRegression()\n",
    "regressionObject.fit(train_x, train_y)\n",
    "\n",
    "# Predicting on the test set\n",
    "predict_test = regressionObject.predict(test_x)\n",
    "\n",
    "# Calculating evaluation metrics\n",
    "r_square_test = regressionObject.score(test_x, test_y)\n",
    "r_square_train = regressionObject.score(train_x, train_y)\n",
    "mse_test = metrics.mean_squared_error(test_y, predict_test)\n",
    "mae_test = metrics.mean_absolute_error(test_y, predict_test)\n",
    "\n",
    "# Printing the results\n",
    "print(\"RSquare Value for TEST data is:\", np.round(r_square_test * 100, 2))\n",
    "print(\"RSquare Value for Train data is:\", np.round(r_square_train * 100, 2))\n",
    "print(\"MSE for Test data is:\", mse_test)\n",
    "print(\"MAE for Test data is:\", mae_test)"
   ]
  },
  {
   "cell_type": "code",
   "execution_count": 64,
   "id": "4f862dce",
   "metadata": {
    "colab": {
     "base_uri": "https://localhost:8080/"
    },
    "id": "4f862dce",
    "outputId": "cbb48308-8d86-4f4b-f401-6d844eb0931e"
   },
   "outputs": [
    {
     "name": "stdout",
     "output_type": "stream",
     "text": [
      "RSquare Value for TEST data is: 84.72\n",
      "RSquare Value for Train data is: 81.29\n",
      "MSE for Test data is: 6.369367942623745e-05\n",
      "MAE for Test data is: 0.0009383905173814051\n"
     ]
    }
   ],
   "source": [
    "from sklearn.preprocessing import Normalizer\n",
    "\n",
    "scaler = Normalizer()\n",
    "unit_scaled_data = scaler.fit_transform(df)\n",
    "\n",
    "# Separate features (X) and target variable (y)\n",
    "# Index 0 = Location, 6: 'Property Type', 8: 'Size' -- 3 variables\n",
    "columns_to_keep = [0, 6, 8]\n",
    "X_normalized = unit_scaled_data[:, columns_to_keep]\n",
    "Y_normalized = unit_scaled_data[:, 1]\n",
    "\n",
    "# Splitting the data into train and test sets\n",
    "train_x, test_x, train_y, test_y = train_test_split(X_normalized, Y_normalized, test_size=0.25, random_state=1)\n",
    "\n",
    "# Training the model\n",
    "regressionObject = LinearRegression()\n",
    "regressionObject.fit(train_x, train_y)\n",
    "\n",
    "# Predicting on the test set\n",
    "predict_test = regressionObject.predict(test_x)\n",
    "\n",
    "# Calculating evaluation metrics\n",
    "r_square_test = regressionObject.score(test_x, test_y)\n",
    "r_square_train = regressionObject.score(train_x, train_y)\n",
    "mse_test = metrics.mean_squared_error(test_y, predict_test)\n",
    "mae_test = metrics.mean_absolute_error(test_y, predict_test)\n",
    "\n",
    "# Printing the results\n",
    "print(\"RSquare Value for TEST data is:\", np.round(r_square_test * 100, 2))\n",
    "print(\"RSquare Value for Train data is:\", np.round(r_square_train * 100, 2))\n",
    "print(\"MSE for Test data is:\", mse_test)\n",
    "print(\"MAE for Test data is:\", mae_test)"
   ]
  },
  {
   "cell_type": "code",
   "execution_count": 57,
   "id": "d55ef44d",
   "metadata": {
    "colab": {
     "base_uri": "https://localhost:8080/"
    },
    "id": "d55ef44d",
    "outputId": "fd93b3db-98f1-42d9-b834-f497b2920778"
   },
   "outputs": [
    {
     "name": "stdout",
     "output_type": "stream",
     "text": [
      "RSquare Value for TEST data is: 81.98\n",
      "RSquare Value for Train data is: 86.35\n",
      "MSE for Test data is: 7.512662908764898e-05\n",
      "MAE for Test data is: 0.0009113273150571033\n"
     ]
    }
   ],
   "source": [
    "from sklearn.preprocessing import Normalizer\n",
    "\n",
    "scaler = Normalizer()\n",
    "unit_scaled_data = scaler.fit_transform(df)\n",
    "\n",
    "# Separate features (X) and target variable (y)\n",
    "#Independent variables : 'Location', 'Rooms', 'Car Parks', 'Bathrooms', 'Property Type', 'Size'\n",
    "columns_to_keep = [0, 2, 3, 4, 6, 8]\n",
    "X_normalized = unit_scaled_data[:, columns_to_keep]\n",
    "Y_normalized = unit_scaled_data[:, 1]\n",
    "\n",
    "# Splitting the data into train and test sets\n",
    "train_x, test_x, train_y, test_y = train_test_split(X_normalized, Y_normalized, test_size=0.25, random_state=1)\n",
    "\n",
    "# Training the model\n",
    "regressionObject = LinearRegression()\n",
    "regressionObject.fit(train_x, train_y)\n",
    "\n",
    "# Predicting on the test set\n",
    "predict_test = regressionObject.predict(test_x)\n",
    "\n",
    "# Calculating evaluation metrics\n",
    "r_square_test = regressionObject.score(test_x, test_y)\n",
    "r_square_train = regressionObject.score(train_x, train_y)\n",
    "mse_test = metrics.mean_squared_error(test_y, predict_test)\n",
    "mae_test = metrics.mean_absolute_error(test_y, predict_test)\n",
    "\n",
    "# Printing the results\n",
    "print(\"RSquare Value for TEST data is:\", np.round(r_square_test * 100, 2))\n",
    "print(\"RSquare Value for Train data is:\", np.round(r_square_train * 100, 2))\n",
    "print(\"MSE for Test data is:\", mse_test)\n",
    "print(\"MAE for Test data is:\", mae_test)"
   ]
  },
  {
   "cell_type": "code",
   "execution_count": null,
   "id": "2bfba186",
   "metadata": {
    "id": "2bfba186"
   },
   "outputs": [],
   "source": []
  }
 ],
 "metadata": {
  "colab": {
   "provenance": []
  },
  "kernelspec": {
   "display_name": "Python 3 (ipykernel)",
   "language": "python",
   "name": "python3"
  },
  "language_info": {
   "codemirror_mode": {
    "name": "ipython",
    "version": 3
   },
   "file_extension": ".py",
   "mimetype": "text/x-python",
   "name": "python",
   "nbconvert_exporter": "python",
   "pygments_lexer": "ipython3",
   "version": "3.11.5"
  }
 },
 "nbformat": 4,
 "nbformat_minor": 5
}
