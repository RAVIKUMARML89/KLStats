{
 "cells": [
  {
   "cell_type": "code",
   "execution_count": 12,
   "id": "a37ca03e",
   "metadata": {},
   "outputs": [
    {
     "data": {
      "text/html": [
       "<div>\n",
       "<style scoped>\n",
       "    .dataframe tbody tr th:only-of-type {\n",
       "        vertical-align: middle;\n",
       "    }\n",
       "\n",
       "    .dataframe tbody tr th {\n",
       "        vertical-align: top;\n",
       "    }\n",
       "\n",
       "    .dataframe thead th {\n",
       "        text-align: right;\n",
       "    }\n",
       "</style>\n",
       "<table border=\"1\" class=\"dataframe\">\n",
       "  <thead>\n",
       "    <tr style=\"text-align: right;\">\n",
       "      <th></th>\n",
       "      <th>Location</th>\n",
       "      <th>Price</th>\n",
       "      <th>Servant room</th>\n",
       "      <th>Rooms</th>\n",
       "      <th>Car Parks</th>\n",
       "      <th>No of Sty</th>\n",
       "      <th>Property Type</th>\n",
       "      <th>Position</th>\n",
       "      <th>Type</th>\n",
       "      <th>Size</th>\n",
       "      <th>Furnishing</th>\n",
       "    </tr>\n",
       "  </thead>\n",
       "  <tbody>\n",
       "    <tr>\n",
       "      <th>0</th>\n",
       "      <td>KLCC</td>\n",
       "      <td>1250000.0</td>\n",
       "      <td>1.0</td>\n",
       "      <td>3</td>\n",
       "      <td>2.0</td>\n",
       "      <td>0</td>\n",
       "      <td>Serviced Residence</td>\n",
       "      <td>Unknown</td>\n",
       "      <td>Built-up</td>\n",
       "      <td>1335.0</td>\n",
       "      <td>Fully Furnished</td>\n",
       "    </tr>\n",
       "    <tr>\n",
       "      <th>1</th>\n",
       "      <td>Damansara Heights</td>\n",
       "      <td>6800000.0</td>\n",
       "      <td>NaN</td>\n",
       "      <td>6</td>\n",
       "      <td>NaN</td>\n",
       "      <td>0</td>\n",
       "      <td>Bungalow</td>\n",
       "      <td>Unknown</td>\n",
       "      <td>Land area</td>\n",
       "      <td>6900.0</td>\n",
       "      <td>Partly Furnished</td>\n",
       "    </tr>\n",
       "    <tr>\n",
       "      <th>2</th>\n",
       "      <td>Dutamas</td>\n",
       "      <td>1030000.0</td>\n",
       "      <td>NaN</td>\n",
       "      <td>3</td>\n",
       "      <td>2.0</td>\n",
       "      <td>0</td>\n",
       "      <td>Condominium</td>\n",
       "      <td>Corner</td>\n",
       "      <td>Built-up</td>\n",
       "      <td>1875.0</td>\n",
       "      <td>Partly Furnished</td>\n",
       "    </tr>\n",
       "    <tr>\n",
       "      <th>3</th>\n",
       "      <td>Cheras</td>\n",
       "      <td>NaN</td>\n",
       "      <td>NaN</td>\n",
       "      <td>0</td>\n",
       "      <td>NaN</td>\n",
       "      <td>0</td>\n",
       "      <td>NaN</td>\n",
       "      <td>Unknown</td>\n",
       "      <td>NaN</td>\n",
       "      <td>0.0</td>\n",
       "      <td>NaN</td>\n",
       "    </tr>\n",
       "    <tr>\n",
       "      <th>4</th>\n",
       "      <td>Bukit Jalil</td>\n",
       "      <td>900000.0</td>\n",
       "      <td>1.0</td>\n",
       "      <td>5</td>\n",
       "      <td>2.0</td>\n",
       "      <td>0</td>\n",
       "      <td>Condominium</td>\n",
       "      <td>Corner</td>\n",
       "      <td>Built-up</td>\n",
       "      <td>1513.0</td>\n",
       "      <td>Partly Furnished</td>\n",
       "    </tr>\n",
       "    <tr>\n",
       "      <th>...</th>\n",
       "      <td>...</td>\n",
       "      <td>...</td>\n",
       "      <td>...</td>\n",
       "      <td>...</td>\n",
       "      <td>...</td>\n",
       "      <td>...</td>\n",
       "      <td>...</td>\n",
       "      <td>...</td>\n",
       "      <td>...</td>\n",
       "      <td>...</td>\n",
       "      <td>...</td>\n",
       "    </tr>\n",
       "    <tr>\n",
       "      <th>53878</th>\n",
       "      <td>Bangsar</td>\n",
       "      <td>5100000.0</td>\n",
       "      <td>1.0</td>\n",
       "      <td>6</td>\n",
       "      <td>NaN</td>\n",
       "      <td>0</td>\n",
       "      <td>Bungalow</td>\n",
       "      <td>Corner</td>\n",
       "      <td>Land area</td>\n",
       "      <td>7168.0</td>\n",
       "      <td>Fully Furnished</td>\n",
       "    </tr>\n",
       "    <tr>\n",
       "      <th>53879</th>\n",
       "      <td>Bangsar</td>\n",
       "      <td>5000000.0</td>\n",
       "      <td>NaN</td>\n",
       "      <td>5</td>\n",
       "      <td>NaN</td>\n",
       "      <td>0</td>\n",
       "      <td>Bungalow</td>\n",
       "      <td>Intermediate</td>\n",
       "      <td>Land area</td>\n",
       "      <td>15000.0</td>\n",
       "      <td>Unfurnished</td>\n",
       "    </tr>\n",
       "    <tr>\n",
       "      <th>53880</th>\n",
       "      <td>Bangsar</td>\n",
       "      <td>5500000.0</td>\n",
       "      <td>1.0</td>\n",
       "      <td>6</td>\n",
       "      <td>NaN</td>\n",
       "      <td>0</td>\n",
       "      <td>Bungalow</td>\n",
       "      <td>Intermediate</td>\n",
       "      <td>Land area</td>\n",
       "      <td>7168.0</td>\n",
       "      <td>Partly Furnished</td>\n",
       "    </tr>\n",
       "    <tr>\n",
       "      <th>53881</th>\n",
       "      <td>Wangsa Maju</td>\n",
       "      <td>480000.0</td>\n",
       "      <td>NaN</td>\n",
       "      <td>3</td>\n",
       "      <td>NaN</td>\n",
       "      <td>0</td>\n",
       "      <td>Condominium</td>\n",
       "      <td>Intermediate</td>\n",
       "      <td>Built-up</td>\n",
       "      <td>1150.0</td>\n",
       "      <td>Unfurnished</td>\n",
       "    </tr>\n",
       "    <tr>\n",
       "      <th>53882</th>\n",
       "      <td>Setapak</td>\n",
       "      <td>540000.0</td>\n",
       "      <td>NaN</td>\n",
       "      <td>4</td>\n",
       "      <td>3.0</td>\n",
       "      <td>0</td>\n",
       "      <td>Condominium</td>\n",
       "      <td>Intermediate</td>\n",
       "      <td>Built-up</td>\n",
       "      <td>1313.0</td>\n",
       "      <td>Partly Furnished</td>\n",
       "    </tr>\n",
       "  </tbody>\n",
       "</table>\n",
       "<p>53883 rows × 11 columns</p>\n",
       "</div>"
      ],
      "text/plain": [
       "                Location      Price  Servant room  Rooms  Car Parks No of Sty  \\\n",
       "0                   KLCC  1250000.0           1.0      3        2.0         0   \n",
       "1      Damansara Heights  6800000.0           NaN      6        NaN         0   \n",
       "2                Dutamas  1030000.0           NaN      3        2.0         0   \n",
       "3                 Cheras        NaN           NaN      0        NaN         0   \n",
       "4            Bukit Jalil   900000.0           1.0      5        2.0         0   \n",
       "...                  ...        ...           ...    ...        ...       ...   \n",
       "53878            Bangsar  5100000.0           1.0      6        NaN         0   \n",
       "53879            Bangsar  5000000.0           NaN      5        NaN         0   \n",
       "53880            Bangsar  5500000.0           1.0      6        NaN         0   \n",
       "53881        Wangsa Maju   480000.0           NaN      3        NaN         0   \n",
       "53882            Setapak   540000.0           NaN      4        3.0         0   \n",
       "\n",
       "            Property Type      Position        Type     Size        Furnishing  \n",
       "0      Serviced Residence       Unknown   Built-up    1335.0   Fully Furnished  \n",
       "1                Bungalow       Unknown  Land area    6900.0  Partly Furnished  \n",
       "2             Condominium        Corner   Built-up    1875.0  Partly Furnished  \n",
       "3                     NaN       Unknown         NaN      0.0               NaN  \n",
       "4             Condominium        Corner   Built-up    1513.0  Partly Furnished  \n",
       "...                   ...           ...         ...      ...               ...  \n",
       "53878            Bungalow        Corner  Land area    7168.0   Fully Furnished  \n",
       "53879            Bungalow  Intermediate  Land area   15000.0       Unfurnished  \n",
       "53880            Bungalow  Intermediate  Land area    7168.0  Partly Furnished  \n",
       "53881         Condominium  Intermediate   Built-up    1150.0       Unfurnished  \n",
       "53882         Condominium  Intermediate   Built-up    1313.0  Partly Furnished  \n",
       "\n",
       "[53883 rows x 11 columns]"
      ]
     },
     "execution_count": 12,
     "metadata": {},
     "output_type": "execute_result"
    }
   ],
   "source": [
    "#importing data management, data visualisation libraries.\n",
    "import numpy as np\n",
    "import pandas as pd\n",
    "import matplotlib.pyplot as plt\n",
    "import seaborn as sns\n",
    "\n",
    "df= pd.read_excel('/Users/Z002KG2/Downloads/KL_Real_Estate_datacleanv2.xlsx')\n",
    "df"
   ]
  },
  {
   "cell_type": "code",
   "execution_count": 13,
   "id": "b40b0594",
   "metadata": {},
   "outputs": [
    {
     "data": {
      "text/plain": [
       "5018"
      ]
     },
     "execution_count": 13,
     "metadata": {},
     "output_type": "execute_result"
    }
   ],
   "source": [
    "df.duplicated().sum()"
   ]
  },
  {
   "cell_type": "code",
   "execution_count": 14,
   "id": "46f337c9",
   "metadata": {},
   "outputs": [],
   "source": [
    "df.drop_duplicates(inplace=True)"
   ]
  },
  {
   "cell_type": "code",
   "execution_count": 15,
   "id": "bf8275da",
   "metadata": {},
   "outputs": [],
   "source": [
    "df.drop(columns=['Servant room', 'Type'], inplace=True)"
   ]
  },
  {
   "cell_type": "code",
   "execution_count": 16,
   "id": "a9b58db0",
   "metadata": {},
   "outputs": [],
   "source": [
    "df.fillna(value={'Car Parks':0, 'Furnishing': 'Unknown', 'Property Type':'Unknown'}, inplace=True)"
   ]
  },
  {
   "cell_type": "code",
   "execution_count": 17,
   "id": "c021a14d",
   "metadata": {},
   "outputs": [
    {
     "data": {
      "text/plain": [
       "Location           0\n",
       "Price            218\n",
       "Rooms              0\n",
       "Car Parks          0\n",
       "No of Sty          0\n",
       "Property Type      0\n",
       "Position           0\n",
       "Size               0\n",
       "Furnishing         0\n",
       "dtype: int64"
      ]
     },
     "execution_count": 17,
     "metadata": {},
     "output_type": "execute_result"
    }
   ],
   "source": [
    "df.isna().sum()"
   ]
  },
  {
   "cell_type": "code",
   "execution_count": 18,
   "id": "6cc5dcbc",
   "metadata": {},
   "outputs": [],
   "source": [
    "df.dropna(inplace=True)"
   ]
  },
  {
   "cell_type": "code",
   "execution_count": 19,
   "id": "b642b7a0",
   "metadata": {},
   "outputs": [
    {
     "data": {
      "text/plain": [
       "Location         0\n",
       "Price            0\n",
       "Rooms            0\n",
       "Car Parks        0\n",
       "No of Sty        0\n",
       "Property Type    0\n",
       "Position         0\n",
       "Size             0\n",
       "Furnishing       0\n",
       "dtype: int64"
      ]
     },
     "execution_count": 19,
     "metadata": {},
     "output_type": "execute_result"
    }
   ],
   "source": [
    "df.isna().sum()"
   ]
  },
  {
   "cell_type": "code",
   "execution_count": 20,
   "id": "983d3979",
   "metadata": {},
   "outputs": [],
   "source": [
    "df['No of Sty'] = df['No of Sty'].str.replace('-sty', '')"
   ]
  },
  {
   "cell_type": "code",
   "execution_count": 25,
   "id": "fd21ee75",
   "metadata": {},
   "outputs": [],
   "source": [
    "df.fillna(value={'No of Sty': 0}, inplace=True)"
   ]
  },
  {
   "cell_type": "code",
   "execution_count": 26,
   "id": "c8745fb0",
   "metadata": {},
   "outputs": [],
   "source": [
    "df['No of Sty'] = df['No of Sty'].astype(float)\n",
    "df['Car Parks'] = df['Car Parks'].astype(int)\n",
    "df['Size'] = df['Size'].astype(float)"
   ]
  },
  {
   "cell_type": "code",
   "execution_count": 27,
   "id": "62058652",
   "metadata": {},
   "outputs": [
    {
     "name": "stdout",
     "output_type": "stream",
     "text": [
      "<class 'pandas.core.frame.DataFrame'>\n",
      "Index: 48647 entries, 0 to 53882\n",
      "Data columns (total 9 columns):\n",
      " #   Column         Non-Null Count  Dtype  \n",
      "---  ------         --------------  -----  \n",
      " 0   Location       48647 non-null  int64  \n",
      " 1   Price          48647 non-null  float64\n",
      " 2   Rooms          48647 non-null  int64  \n",
      " 3   Car Parks      48647 non-null  int64  \n",
      " 4   No of Sty      48647 non-null  float64\n",
      " 5   Property Type  48647 non-null  int64  \n",
      " 6   Position       48647 non-null  int64  \n",
      " 7   Size           48647 non-null  float64\n",
      " 8   Furnishing     48647 non-null  int64  \n",
      "dtypes: float64(3), int64(6)\n",
      "memory usage: 3.7 MB\n"
     ]
    }
   ],
   "source": [
    "df.info()"
   ]
  },
  {
   "cell_type": "code",
   "execution_count": 28,
   "id": "09492a7d",
   "metadata": {},
   "outputs": [
    {
     "data": {
      "text/plain": [
       "Location         0\n",
       "Price            0\n",
       "Rooms            0\n",
       "Car Parks        0\n",
       "No of Sty        0\n",
       "Property Type    0\n",
       "Position         0\n",
       "Size             0\n",
       "Furnishing       0\n",
       "dtype: int64"
      ]
     },
     "execution_count": 28,
     "metadata": {},
     "output_type": "execute_result"
    }
   ],
   "source": [
    "df.isna().sum()"
   ]
  },
  {
   "cell_type": "code",
   "execution_count": 29,
   "id": "2057fe06",
   "metadata": {
    "scrolled": true
   },
   "outputs": [
    {
     "name": "stdout",
     "output_type": "stream",
     "text": [
      "Location: 0.5982\n",
      "Rooms: 0.5062\n",
      "Car Parks: 0.3025\n",
      "No of Sty: 0.0874\n",
      "Property Type: 0.5546\n",
      "Position: 0.1539\n",
      "Size: 1.2095\n",
      "Furnishing: 0.1849\n"
     ]
    },
    {
     "data": {
      "image/png": "[encoded data removed]",
      "text/plain": [
       "<Figure size 640x480 with 1 Axes>"
      ]
     },
     "metadata": {},
     "output_type": "display_data"
    }
   ],
   "source": [
    "import pandas as pd\n",
    "from sklearn.feature_selection import mutual_info_classif\n",
    "from sklearn.preprocessing import LabelEncoder\n",
    "\n",
    "df.head(10)\n",
    "\n",
    "# Encode categorical variables with LabelEncoder\n",
    "encoder = LabelEncoder()\n",
    "df['Location'] = encoder.fit_transform(df['Location'])\n",
    "df['Property Type'] = encoder.fit_transform(df['Property Type'])\n",
    "df['Position'] = encoder.fit_transform(df['Position'])\n",
    "df['Furnishing'] = encoder.fit_transform(df['Furnishing'])\n",
    "\n",
    "# features (X) and target variable (y)\n",
    "X = df.drop(columns=['Price'])\n",
    "y = df['Price']\n",
    "\n",
    "# Compute mutual information scores\n",
    "mi_scores = mutual_info_classif(X, y)\n",
    "\n",
    "# Print feature importance scores\n",
    "for feature, score in zip(X.columns, mi_scores):\n",
    "    print(f\"{feature}: {score:.4f}\")\n",
    "\n",
    "\n",
    "feat_importances = pd.Series(mi_scores, X.columns[0:len(df.columns)])\n",
    "feat_importances.plot(kind='barh', color = 'teal')\n",
    "plt.show()"
   ]
  },
  {
   "cell_type": "code",
   "execution_count": 31,
   "id": "4c154d7b",
   "metadata": {},
   "outputs": [],
   "source": [
    "X = df[['Location', 'Rooms', 'Size', 'Property Type']]\n",
    "y = df['Price']"
   ]
  },
  {
   "cell_type": "code",
   "execution_count": 33,
   "id": "cf226466",
   "metadata": {},
   "outputs": [],
   "source": [
    "def regressionMethods(x, y, regressionObject):\n",
    "  train_x, test_x, train_y, test_y= train_test_split(x,y,test_size=0.1, random_state=1)\n",
    "  regressionObject.fit(train_x, train_y)\n",
    "  predict_test=regressionObject.predict(test_x)\n",
    "  df_m=pd.DataFrame({'features':x.columns,'coeff':regressionObject.coef_})\n",
    "  df_m=df_m.sort_values(by=['coeff'])\n",
    "  df_m.plot(x='features', y='coeff', kind='bar', figsize=(15,10))\n",
    "  plt.show()\n",
    "  print(\"RSquare Value for TEST data is : \",  np.round(regressionObject.score(test_x, test_y)*100, 0))\n",
    "  print(\"RSquare Value for TRAIN data is : \", np.round(regressionObject.score(train_x, train_y)*100, 0))\n",
    "  print(\"MSE for Test data is : \",np.round(metrics.mean_squared_error(test_y, predict_test), 0))\n",
    "  print(\"MAE for Test data is : \",np.round(metrics.mean_absolute_error(test_y, predict_test), 0))"
   ]
  },
  {
   "cell_type": "code",
   "execution_count": 38,
   "id": "2b11cb08",
   "metadata": {},
   "outputs": [],
   "source": [
    "import sklearn\n",
    "import seaborn as sns\n",
    "import sklearn\n",
    "from sklearn.model_selection import cross_validate\n",
    "from sklearn.model_selection import train_test_split\n",
    "from sklearn import metrics\n",
    "import matplotlib.pyplot as plt\n",
    "%matplotlib inline\n"
   ]
  },
  {
   "cell_type": "code",
   "execution_count": 51,
   "id": "8f67ba27",
   "metadata": {},
   "outputs": [
    {
     "data": {
      "image/png": "[encoded data removed]",
      "text/plain": [
       "<Figure size 1500x1000 with 1 Axes>"
      ]
     },
     "metadata": {},
     "output_type": "display_data"
    },
    {
     "name": "stdout",
     "output_type": "stream",
     "text": [
      "RSquare Value for TEST data is :  0.0\n",
      "RSquare Value for TRAIN data is :  2.0\n",
      "MSE for Test data is :  1079828145746798.0\n",
      "MAE for Test data is :  2110203.0\n"
     ]
    }
   ],
   "source": [
    "from sklearn.linear_model import LinearRegression\n",
    "\n",
    "lm=LinearRegression()\n",
    "regressionMethods(X, y, lm)"
   ]
  },
  {
   "cell_type": "code",
   "execution_count": 50,
   "id": "6c2d3612",
   "metadata": {},
   "outputs": [
    {
     "name": "stdout",
     "output_type": "stream",
     "text": [
      "RSquare Value for TEST data is: 76.61\n",
      "RSquare Value for Train data is: 75.64\n",
      "MSE for Test data is: 8.585526779950472e-05\n",
      "MAE for Test data is: 0.0008979756611601808\n"
     ]
    }
   ],
   "source": [
    "from sklearn.preprocessing import Normalizer\n",
    "\n",
    "scaler = Normalizer()\n",
    "unit_scaled_data = scaler.fit_transform(df)\n",
    "\n",
    "# Separate features (X) and target variable (y)\n",
    "# Index 0 = Location, 2: 'Rooms', 5: 'Property Type', 7: 'Size'\n",
    "columns_to_keep = [0, 2, 5, 7]\n",
    "X_normalized = unit_scaled_data[:, columns_to_keep]\n",
    "Y_normalized = unit_scaled_data[:, 1]\n",
    "\n",
    "# Splitting the data into train and test sets\n",
    "train_x, test_x, train_y, test_y = train_test_split(X_normalized, Y_normalized, test_size=0.25, random_state=1)\n",
    "\n",
    "# Training the model\n",
    "regressionObject = LinearRegression()\n",
    "regressionObject.fit(train_x, train_y)\n",
    "\n",
    "# Predicting on the test set\n",
    "predict_test = regressionObject.predict(test_x)\n",
    "\n",
    "# Calculating evaluation metrics\n",
    "r_square_test = regressionObject.score(test_x, test_y)\n",
    "r_square_train = regressionObject.score(train_x, train_y)\n",
    "mse_test = metrics.mean_squared_error(test_y, predict_test)\n",
    "mae_test = metrics.mean_absolute_error(test_y, predict_test)\n",
    "\n",
    "# Printing the results\n",
    "print(\"RSquare Value for TEST data is:\", np.round(r_square_test * 100, 2))\n",
    "print(\"RSquare Value for Train data is:\", np.round(r_square_train * 100, 2))\n",
    "print(\"MSE for Test data is:\", mse_test)\n",
    "print(\"MAE for Test data is:\", mae_test)"
   ]
  },
  {
   "cell_type": "code",
   "execution_count": 40,
   "id": "57c04213",
   "metadata": {},
   "outputs": [
    {
     "data": {
      "text/plain": [
       "Index(['Location', 'Price', 'Rooms', 'Car Parks', 'No of Sty', 'Property Type',\n",
       "       'Position', 'Size', 'Furnishing'],\n",
       "      dtype='object')"
      ]
     },
     "execution_count": 40,
     "metadata": {},
     "output_type": "execute_result"
    }
   ],
   "source": [
    "df.columns"
   ]
  },
  {
   "cell_type": "code",
   "execution_count": 55,
   "id": "b83de57b",
   "metadata": {},
   "outputs": [
    {
     "data": {
      "image/png": "[encoded data removed]",
      "text/plain": [
       "<Figure size 1500x1000 with 1 Axes>"
      ]
     },
     "metadata": {},
     "output_type": "display_data"
    }
   ],
   "source": [
    "x1 = pd.DataFrame(X_normalized)\n",
    "\n",
    "df_m=pd.DataFrame({'features':x1.columns,'coeff':regressionObject.coef_})\n",
    "df_m=df_m.sort_values(by=['coeff'])\n",
    "df_m.plot(x='features', y='coeff', kind='bar', figsize=(15,10))\n",
    "plt.show()"
   ]
  },
  {
   "cell_type": "code",
   "execution_count": 56,
   "id": "730a9298",
   "metadata": {},
   "outputs": [
    {
     "name": "stdout",
     "output_type": "stream",
     "text": [
      "RSquare Value for TEST data is: 78.13\n",
      "RSquare Value for Train data is: 79.22\n",
      "MSE for Test data is: 8.030623359671843e-05\n",
      "MAE for Test data is: 0.0008663389924744473\n"
     ]
    }
   ],
   "source": [
    "from sklearn.preprocessing import Normalizer\n",
    "\n",
    "scaler = Normalizer()\n",
    "unit_scaled_data = scaler.fit_transform(df)\n",
    "\n",
    "# Separate features (X) and target variable (y)\n",
    "# All the fields 'Location', 'Rooms', 'Car Parks', 'No of Sty', 'Property Type','Position', 'Size', 'Furnishing'\n",
    "columns_to_keep = [0, 2, 3, 4, 5, 6, 7, 8]\n",
    "X_normalized = unit_scaled_data[:, columns_to_keep]\n",
    "Y_normalized = unit_scaled_data[:, 1]\n",
    "\n",
    "# Splitting the data into train and test sets\n",
    "train_x, test_x, train_y, test_y = train_test_split(X_normalized, Y_normalized, test_size=0.25, random_state=1)\n",
    "\n",
    "# Training the model\n",
    "regressionObject = LinearRegression()\n",
    "regressionObject.fit(train_x, train_y)\n",
    "\n",
    "# Predicting on the test set\n",
    "predict_test = regressionObject.predict(test_x)\n",
    "\n",
    "# Calculating evaluation metrics\n",
    "r_square_test = regressionObject.score(test_x, test_y)\n",
    "r_square_train = regressionObject.score(train_x, train_y)\n",
    "mse_test = metrics.mean_squared_error(test_y, predict_test)\n",
    "mae_test = metrics.mean_absolute_error(test_y, predict_test)\n",
    "\n",
    "# Printing the results\n",
    "print(\"RSquare Value for TEST data is:\", np.round(r_square_test * 100, 2))\n",
    "print(\"RSquare Value for Train data is:\", np.round(r_square_train * 100, 2))\n",
    "print(\"MSE for Test data is:\", mse_test)\n",
    "print(\"MAE for Test data is:\", mae_test)"
   ]
  },
  {
   "cell_type": "code",
   "execution_count": 58,
   "id": "4f862dce",
   "metadata": {},
   "outputs": [
    {
     "name": "stdout",
     "output_type": "stream",
     "text": [
      "RSquare Value for TEST data is: 72.07\n",
      "RSquare Value for Train data is: 72.99\n",
      "MSE for Test data is: 0.00010254735774660044\n",
      "MAE for Test data is: 0.0009257854727329287\n"
     ]
    }
   ],
   "source": [
    "from sklearn.preprocessing import Normalizer\n",
    "\n",
    "scaler = Normalizer()\n",
    "unit_scaled_data = scaler.fit_transform(df)\n",
    "\n",
    "# Separate features (X) and target variable (y)\n",
    "# Index 0 = Location, 5: 'Property Type', 7: 'Size' -- 3 variables\n",
    "columns_to_keep = [0, 5, 7]\n",
    "X_normalized = unit_scaled_data[:, columns_to_keep]\n",
    "Y_normalized = unit_scaled_data[:, 1]\n",
    "\n",
    "# Splitting the data into train and test sets\n",
    "train_x, test_x, train_y, test_y = train_test_split(X_normalized, Y_normalized, test_size=0.25, random_state=1)\n",
    "\n",
    "# Training the model\n",
    "regressionObject = LinearRegression()\n",
    "regressionObject.fit(train_x, train_y)\n",
    "\n",
    "# Predicting on the test set\n",
    "predict_test = regressionObject.predict(test_x)\n",
    "\n",
    "# Calculating evaluation metrics\n",
    "r_square_test = regressionObject.score(test_x, test_y)\n",
    "r_square_train = regressionObject.score(train_x, train_y)\n",
    "mse_test = metrics.mean_squared_error(test_y, predict_test)\n",
    "mae_test = metrics.mean_absolute_error(test_y, predict_test)\n",
    "\n",
    "# Printing the results\n",
    "print(\"RSquare Value for TEST data is:\", np.round(r_square_test * 100, 2))\n",
    "print(\"RSquare Value for Train data is:\", np.round(r_square_train * 100, 2))\n",
    "print(\"MSE for Test data is:\", mse_test)\n",
    "print(\"MAE for Test data is:\", mae_test)"
   ]
  },
  {
   "cell_type": "code",
   "execution_count": 60,
   "id": "d55ef44d",
   "metadata": {},
   "outputs": [
    {
     "name": "stdout",
     "output_type": "stream",
     "text": [
      "RSquare Value for TEST data is: 76.9\n",
      "RSquare Value for Train data is: 76.76\n",
      "MSE for Test data is: 8.479088864884809e-05\n",
      "MAE for Test data is: 0.0009060795750698819\n"
     ]
    }
   ],
   "source": [
    "from sklearn.preprocessing import Normalizer\n",
    "\n",
    "scaler = Normalizer()\n",
    "unit_scaled_data = scaler.fit_transform(df)\n",
    "\n",
    "# Separate features (X) and target variable (y)\n",
    "# All the fields 'Location', 'Rooms', 'Car Parks', 'Property Type', 'Size'\n",
    "columns_to_keep = [0, 2, 3, 4, 5, 7]\n",
    "X_normalized = unit_scaled_data[:, columns_to_keep]\n",
    "Y_normalized = unit_scaled_data[:, 1]\n",
    "\n",
    "# Splitting the data into train and test sets\n",
    "train_x, test_x, train_y, test_y = train_test_split(X_normalized, Y_normalized, test_size=0.25, random_state=1)\n",
    "\n",
    "# Training the model\n",
    "regressionObject = LinearRegression()\n",
    "regressionObject.fit(train_x, train_y)\n",
    "\n",
    "# Predicting on the test set\n",
    "predict_test = regressionObject.predict(test_x)\n",
    "\n",
    "# Calculating evaluation metrics\n",
    "r_square_test = regressionObject.score(test_x, test_y)\n",
    "r_square_train = regressionObject.score(train_x, train_y)\n",
    "mse_test = metrics.mean_squared_error(test_y, predict_test)\n",
    "mae_test = metrics.mean_absolute_error(test_y, predict_test)\n",
    "\n",
    "# Printing the results\n",
    "print(\"RSquare Value for TEST data is:\", np.round(r_square_test * 100, 2))\n",
    "print(\"RSquare Value for Train data is:\", np.round(r_square_train * 100, 2))\n",
    "print(\"MSE for Test data is:\", mse_test)\n",
    "print(\"MAE for Test data is:\", mae_test)"
   ]
  },
  {
   "cell_type": "code",
   "execution_count": null,
   "id": "2bfba186",
   "metadata": {},
   "outputs": [],
   "source": []
  }
 ],
 "metadata": {
  "kernelspec": {
   "display_name": "Python 3 (ipykernel)",
   "language": "python",
   "name": "python3"
  },
  "language_info": {
   "codemirror_mode": {
    "name": "ipython",
    "version": 3
   },
   "file_extension": ".py",
   "mimetype": "text/x-python",
   "name": "python",
   "nbconvert_exporter": "python",
   "pygments_lexer": "ipython3",
   "version": "3.11.5"
  }
 },
 "nbformat": 4,
 "nbformat_minor": 5
}
