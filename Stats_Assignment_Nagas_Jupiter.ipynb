{
 "cells": [
  {
   "cell_type": "code",
   "execution_count": 166,
   "id": "a37ca03e",
   "metadata": {},
   "outputs": [
    {
     "data": {
      "text/html": [
       "<div>\n",
       "<style scoped>\n",
       "    .dataframe tbody tr th:only-of-type {\n",
       "        vertical-align: middle;\n",
       "    }\n",
       "\n",
       "    .dataframe tbody tr th {\n",
       "        vertical-align: top;\n",
       "    }\n",
       "\n",
       "    .dataframe thead th {\n",
       "        text-align: right;\n",
       "    }\n",
       "</style>\n",
       "<table border=\"1\" class=\"dataframe\">\n",
       "  <thead>\n",
       "    <tr style=\"text-align: right;\">\n",
       "      <th></th>\n",
       "      <th>Location</th>\n",
       "      <th>Price</th>\n",
       "      <th>Rooms</th>\n",
       "      <th>Bathrooms</th>\n",
       "      <th>Car Parks</th>\n",
       "      <th>No of Storey</th>\n",
       "      <th>Property Type</th>\n",
       "      <th>Position</th>\n",
       "      <th>Type</th>\n",
       "      <th>Size</th>\n",
       "      <th>Furnishing</th>\n",
       "    </tr>\n",
       "  </thead>\n",
       "  <tbody>\n",
       "    <tr>\n",
       "      <th>0</th>\n",
       "      <td>KLCC, Kuala Lumpur</td>\n",
       "      <td>1250000.0</td>\n",
       "      <td>3</td>\n",
       "      <td>3</td>\n",
       "      <td>2</td>\n",
       "      <td>0.0</td>\n",
       "      <td>Serviced Residence</td>\n",
       "      <td>Unknown</td>\n",
       "      <td>Built-up</td>\n",
       "      <td>1335</td>\n",
       "      <td>Fully Furnished</td>\n",
       "    </tr>\n",
       "    <tr>\n",
       "      <th>1</th>\n",
       "      <td>Damansara Heights, Kuala Lumpur</td>\n",
       "      <td>6800000.0</td>\n",
       "      <td>6</td>\n",
       "      <td>7</td>\n",
       "      <td>0</td>\n",
       "      <td>0.0</td>\n",
       "      <td>Bungalow</td>\n",
       "      <td>Unknown</td>\n",
       "      <td>Land area</td>\n",
       "      <td>6900</td>\n",
       "      <td>Partly Furnished</td>\n",
       "    </tr>\n",
       "    <tr>\n",
       "      <th>2</th>\n",
       "      <td>Dutamas, Kuala Lumpur</td>\n",
       "      <td>1030000.0</td>\n",
       "      <td>3</td>\n",
       "      <td>4</td>\n",
       "      <td>2</td>\n",
       "      <td>0.0</td>\n",
       "      <td>Condominium</td>\n",
       "      <td>Corner</td>\n",
       "      <td>Built-up</td>\n",
       "      <td>1875</td>\n",
       "      <td>Partly Furnished</td>\n",
       "    </tr>\n",
       "    <tr>\n",
       "      <th>3</th>\n",
       "      <td>Cheras, Kuala Lumpur</td>\n",
       "      <td>NaN</td>\n",
       "      <td>0</td>\n",
       "      <td>0</td>\n",
       "      <td>0</td>\n",
       "      <td>0.0</td>\n",
       "      <td>NaN</td>\n",
       "      <td>Unknown</td>\n",
       "      <td>Unknown</td>\n",
       "      <td>0</td>\n",
       "      <td>Unknown</td>\n",
       "    </tr>\n",
       "    <tr>\n",
       "      <th>4</th>\n",
       "      <td>Bukit Jalil, Kuala Lumpur</td>\n",
       "      <td>900000.0</td>\n",
       "      <td>5</td>\n",
       "      <td>3</td>\n",
       "      <td>2</td>\n",
       "      <td>0.0</td>\n",
       "      <td>Condominium</td>\n",
       "      <td>Corner</td>\n",
       "      <td>Built-up</td>\n",
       "      <td>1513</td>\n",
       "      <td>Partly Furnished</td>\n",
       "    </tr>\n",
       "    <tr>\n",
       "      <th>...</th>\n",
       "      <td>...</td>\n",
       "      <td>...</td>\n",
       "      <td>...</td>\n",
       "      <td>...</td>\n",
       "      <td>...</td>\n",
       "      <td>...</td>\n",
       "      <td>...</td>\n",
       "      <td>...</td>\n",
       "      <td>...</td>\n",
       "      <td>...</td>\n",
       "      <td>...</td>\n",
       "    </tr>\n",
       "    <tr>\n",
       "      <th>53878</th>\n",
       "      <td>Bangsar, Kuala Lumpur</td>\n",
       "      <td>5100000.0</td>\n",
       "      <td>6</td>\n",
       "      <td>4</td>\n",
       "      <td>0</td>\n",
       "      <td>0.0</td>\n",
       "      <td>Bungalow</td>\n",
       "      <td>Corner</td>\n",
       "      <td>Land area</td>\n",
       "      <td>7168</td>\n",
       "      <td>Fully Furnished</td>\n",
       "    </tr>\n",
       "    <tr>\n",
       "      <th>53879</th>\n",
       "      <td>Bangsar, Kuala Lumpur</td>\n",
       "      <td>5000000.0</td>\n",
       "      <td>5</td>\n",
       "      <td>4</td>\n",
       "      <td>0</td>\n",
       "      <td>0.0</td>\n",
       "      <td>Bungalow</td>\n",
       "      <td>Intermediate</td>\n",
       "      <td>Land area</td>\n",
       "      <td>15000</td>\n",
       "      <td>Unfurnished</td>\n",
       "    </tr>\n",
       "    <tr>\n",
       "      <th>53880</th>\n",
       "      <td>Bangsar, Kuala Lumpur</td>\n",
       "      <td>5500000.0</td>\n",
       "      <td>6</td>\n",
       "      <td>4</td>\n",
       "      <td>0</td>\n",
       "      <td>0.0</td>\n",
       "      <td>Bungalow</td>\n",
       "      <td>Intermediate</td>\n",
       "      <td>Land area</td>\n",
       "      <td>7168</td>\n",
       "      <td>Partly Furnished</td>\n",
       "    </tr>\n",
       "    <tr>\n",
       "      <th>53881</th>\n",
       "      <td>Wangsa Maju, Kuala Lumpur</td>\n",
       "      <td>480000.0</td>\n",
       "      <td>3</td>\n",
       "      <td>2</td>\n",
       "      <td>0</td>\n",
       "      <td>0.0</td>\n",
       "      <td>Condominium</td>\n",
       "      <td>Intermediate</td>\n",
       "      <td>Built-up</td>\n",
       "      <td>1150</td>\n",
       "      <td>Unfurnished</td>\n",
       "    </tr>\n",
       "    <tr>\n",
       "      <th>53882</th>\n",
       "      <td>Setapak, Kuala Lumpur</td>\n",
       "      <td>540000.0</td>\n",
       "      <td>4</td>\n",
       "      <td>2</td>\n",
       "      <td>3</td>\n",
       "      <td>0.0</td>\n",
       "      <td>Condominium</td>\n",
       "      <td>Intermediate</td>\n",
       "      <td>Built-up</td>\n",
       "      <td>1313</td>\n",
       "      <td>Partly Furnished</td>\n",
       "    </tr>\n",
       "  </tbody>\n",
       "</table>\n",
       "<p>53883 rows × 11 columns</p>\n",
       "</div>"
      ],
      "text/plain": [
       "                              Location      Price  Rooms  Bathrooms  \\\n",
       "0                   KLCC, Kuala Lumpur  1250000.0      3          3   \n",
       "1      Damansara Heights, Kuala Lumpur  6800000.0      6          7   \n",
       "2                Dutamas, Kuala Lumpur  1030000.0      3          4   \n",
       "3                 Cheras, Kuala Lumpur        NaN      0          0   \n",
       "4            Bukit Jalil, Kuala Lumpur   900000.0      5          3   \n",
       "...                                ...        ...    ...        ...   \n",
       "53878            Bangsar, Kuala Lumpur  5100000.0      6          4   \n",
       "53879            Bangsar, Kuala Lumpur  5000000.0      5          4   \n",
       "53880            Bangsar, Kuala Lumpur  5500000.0      6          4   \n",
       "53881        Wangsa Maju, Kuala Lumpur   480000.0      3          2   \n",
       "53882            Setapak, Kuala Lumpur   540000.0      4          2   \n",
       "\n",
       "       Car Parks  No of Storey       Property Type      Position        Type  \\\n",
       "0              2           0.0  Serviced Residence       Unknown   Built-up    \n",
       "1              0           0.0            Bungalow       Unknown  Land area    \n",
       "2              2           0.0         Condominium        Corner   Built-up    \n",
       "3              0           0.0                 NaN       Unknown     Unknown   \n",
       "4              2           0.0         Condominium        Corner   Built-up    \n",
       "...          ...           ...                 ...           ...         ...   \n",
       "53878          0           0.0            Bungalow        Corner  Land area    \n",
       "53879          0           0.0            Bungalow  Intermediate  Land area    \n",
       "53880          0           0.0            Bungalow  Intermediate  Land area    \n",
       "53881          0           0.0         Condominium  Intermediate   Built-up    \n",
       "53882          3           0.0         Condominium  Intermediate   Built-up    \n",
       "\n",
       "        Size        Furnishing  \n",
       "0       1335   Fully Furnished  \n",
       "1       6900  Partly Furnished  \n",
       "2       1875  Partly Furnished  \n",
       "3          0           Unknown  \n",
       "4       1513  Partly Furnished  \n",
       "...      ...               ...  \n",
       "53878   7168   Fully Furnished  \n",
       "53879  15000       Unfurnished  \n",
       "53880   7168  Partly Furnished  \n",
       "53881   1150       Unfurnished  \n",
       "53882   1313  Partly Furnished  \n",
       "\n",
       "[53883 rows x 11 columns]"
      ]
     },
     "execution_count": 166,
     "metadata": {},
     "output_type": "execute_result"
    }
   ],
   "source": [
    "#importing data management, data visualisation libraries.\n",
    "import numpy as np\n",
    "import pandas as pd\n",
    "import matplotlib.pyplot as plt\n",
    "import seaborn as sns\n",
    "\n",
    "df= pd.read_excel('/Users/Z002KG2/Downloads/KL_Real_Estate_dataclean_v3.xlsx')\n",
    "df"
   ]
  },
  {
   "cell_type": "code",
   "execution_count": 167,
   "id": "b40b0594",
   "metadata": {},
   "outputs": [
    {
     "data": {
      "text/plain": [
       "4784"
      ]
     },
     "execution_count": 167,
     "metadata": {},
     "output_type": "execute_result"
    }
   ],
   "source": [
    "df.duplicated().sum()"
   ]
  },
  {
   "cell_type": "code",
   "execution_count": 168,
   "id": "46f337c9",
   "metadata": {},
   "outputs": [],
   "source": [
    "df.drop_duplicates(inplace=True)"
   ]
  },
  {
   "cell_type": "code",
   "execution_count": 169,
   "id": "bf8275da",
   "metadata": {},
   "outputs": [],
   "source": [
    "df.drop(columns=['Type'], inplace=True)"
   ]
  },
  {
   "cell_type": "code",
   "execution_count": 170,
   "id": "a9b58db0",
   "metadata": {},
   "outputs": [],
   "source": [
    "df.fillna(value={'Car Parks':0, 'Furnishing': 'Unknown', 'Property Type':'Unknown', 'No of Sty':0, 'Bathrooms':0, 'No of Storey': 0}, inplace=True)"
   ]
  },
  {
   "cell_type": "code",
   "execution_count": 171,
   "id": "c021a14d",
   "metadata": {},
   "outputs": [
    {
     "data": {
      "text/plain": [
       "Location           0\n",
       "Price            218\n",
       "Rooms              0\n",
       "Bathrooms          0\n",
       "Car Parks          0\n",
       "No of Storey       0\n",
       "Property Type      0\n",
       "Position           0\n",
       "Size               0\n",
       "Furnishing         0\n",
       "dtype: int64"
      ]
     },
     "execution_count": 171,
     "metadata": {},
     "output_type": "execute_result"
    }
   ],
   "source": [
    "df.isna().sum()"
   ]
  },
  {
   "cell_type": "code",
   "execution_count": 172,
   "id": "6cc5dcbc",
   "metadata": {},
   "outputs": [],
   "source": [
    "df.dropna(inplace=True)"
   ]
  },
  {
   "cell_type": "code",
   "execution_count": 173,
   "id": "b642b7a0",
   "metadata": {},
   "outputs": [
    {
     "data": {
      "text/plain": [
       "Location         0\n",
       "Price            0\n",
       "Rooms            0\n",
       "Bathrooms        0\n",
       "Car Parks        0\n",
       "No of Storey     0\n",
       "Property Type    0\n",
       "Position         0\n",
       "Size             0\n",
       "Furnishing       0\n",
       "dtype: int64"
      ]
     },
     "execution_count": 173,
     "metadata": {},
     "output_type": "execute_result"
    }
   ],
   "source": [
    "df.isna().sum()"
   ]
  },
  {
   "cell_type": "code",
   "execution_count": null,
   "id": "8658ee1d",
   "metadata": {},
   "outputs": [],
   "source": [
    "#df['No of Storey'] = df['No of Storey'].str.replace('-sty', '')"
   ]
  },
  {
   "cell_type": "code",
   "execution_count": 177,
   "id": "95c99855",
   "metadata": {},
   "outputs": [],
   "source": [
    "df['Size'] = df['Size'].replace(' Kuala Lumpur',1)\n",
    "df['Size'] = df['Size'].replace(' Malaysia',2)\n",
    "df['Size'] = df['Size'].astype(float)\n",
    "df['Size']=df['Size'].replace(1,df['Size'].mean())\n",
    "df['Size']=df['Size'].replace(2,df['Size'].median())\n"
   ]
  },
  {
   "cell_type": "code",
   "execution_count": 178,
   "id": "f860d877",
   "metadata": {
    "scrolled": true
   },
   "outputs": [
    {
     "name": "stdout",
     "output_type": "stream",
     "text": [
      "Size\n",
      "0.0        1086\n",
      "1650.0      871\n",
      "1400.0      587\n",
      "1100.0      537\n",
      "1760.0      474\n",
      "           ... \n",
      "6463.0        1\n",
      "4316.0        1\n",
      "28667.0       1\n",
      "28500.0       1\n",
      "6050.0        1\n",
      "Name: count, Length: 4143, dtype: int64\n"
     ]
    }
   ],
   "source": [
    "value_counts = df['Size'].value_counts()\n",
    "\n",
    "print(value_counts)"
   ]
  },
  {
   "cell_type": "code",
   "execution_count": 129,
   "id": "0a60b684",
   "metadata": {},
   "outputs": [
    {
     "name": "stdout",
     "output_type": "stream",
     "text": [
      "<class 'pandas.core.frame.DataFrame'>\n",
      "Index: 48881 entries, 0 to 53882\n",
      "Data columns (total 10 columns):\n",
      " #   Column         Non-Null Count  Dtype  \n",
      "---  ------         --------------  -----  \n",
      " 0   Location       48881 non-null  object \n",
      " 1   Price          48881 non-null  float64\n",
      " 2   Rooms          48881 non-null  int64  \n",
      " 3   Bathrooms      48881 non-null  int64  \n",
      " 4   Car Parks      48881 non-null  int64  \n",
      " 5   No of Storey   48881 non-null  float64\n",
      " 6   Property Type  48881 non-null  object \n",
      " 7   Position       48881 non-null  object \n",
      " 8   Size           0 non-null      object \n",
      " 9   Furnishing     48881 non-null  object \n",
      "dtypes: float64(2), int64(3), object(5)\n",
      "memory usage: 4.1+ MB\n"
     ]
    }
   ],
   "source": [
    "df.info()"
   ]
  },
  {
   "cell_type": "code",
   "execution_count": 179,
   "id": "c8745fb0",
   "metadata": {},
   "outputs": [],
   "source": [
    "df['No of Storey'] = df['No of Storey'].astype(float)\n",
    "df['Car Parks'] = df['Car Parks'].astype(int)\n",
    "df['Bathrooms'] = df['Bathrooms'].astype(int)\n",
    "df['Size'] = df['Size'].astype(float)"
   ]
  },
  {
   "cell_type": "code",
   "execution_count": 61,
   "id": "557ebe39",
   "metadata": {},
   "outputs": [],
   "source": [
    "#df['Size'] = df['Size'].replace({0, mean}, inplace=True)"
   ]
  },
  {
   "cell_type": "code",
   "execution_count": 63,
   "id": "62058652",
   "metadata": {},
   "outputs": [
    {
     "name": "stdout",
     "output_type": "stream",
     "text": [
      "<class 'pandas.core.frame.DataFrame'>\n",
      "Index: 49105 entries, 0 to 53882\n",
      "Data columns (total 10 columns):\n",
      " #   Column         Non-Null Count  Dtype  \n",
      "---  ------         --------------  -----  \n",
      " 0   Location       49105 non-null  object \n",
      " 1   Price          49105 non-null  float64\n",
      " 2   Rooms          49105 non-null  int64  \n",
      " 3   Car Parks      49105 non-null  int64  \n",
      " 4   No of Sty      49105 non-null  float64\n",
      " 5   Property Type  49105 non-null  object \n",
      " 6   Position       49105 non-null  object \n",
      " 7   Size           0 non-null      object \n",
      " 8   Furnishing     49105 non-null  object \n",
      " 9   Bathrooms      49105 non-null  int64  \n",
      "dtypes: float64(2), int64(3), object(5)\n",
      "memory usage: 4.1+ MB\n"
     ]
    }
   ],
   "source": [
    "df.info()"
   ]
  },
  {
   "cell_type": "code",
   "execution_count": 84,
   "id": "09492a7d",
   "metadata": {},
   "outputs": [
    {
     "data": {
      "text/plain": [
       "Location         0\n",
       "Price            0\n",
       "Rooms            0\n",
       "Car Parks        0\n",
       "No of Sty        0\n",
       "Property Type    0\n",
       "Position         0\n",
       "Size             0\n",
       "Furnishing       0\n",
       "Bathrooms        0\n",
       "dtype: int64"
      ]
     },
     "execution_count": 84,
     "metadata": {},
     "output_type": "execute_result"
    }
   ],
   "source": [
    "df.isna().sum()"
   ]
  },
  {
   "cell_type": "code",
   "execution_count": 180,
   "id": "2057fe06",
   "metadata": {
    "scrolled": true
   },
   "outputs": [
    {
     "name": "stdout",
     "output_type": "stream",
     "text": [
      "Location: 0.5893\n",
      "Rooms: 0.5025\n",
      "Bathrooms: 0.6199\n",
      "Car Parks: 0.2910\n",
      "No of Storey: 0.0837\n",
      "Property Type: 0.5719\n",
      "Position: 0.1556\n",
      "Size: 1.2200\n",
      "Furnishing: 0.1831\n"
     ]
    },
    {
     "data": {
      "image/png": "[encoded data removed]",
      "text/plain": [
       "<Figure size 640x480 with 1 Axes>"
      ]
     },
     "metadata": {},
     "output_type": "display_data"
    }
   ],
   "source": [
    "import pandas as pd\n",
    "from sklearn.feature_selection import mutual_info_classif\n",
    "from sklearn.preprocessing import LabelEncoder\n",
    "\n",
    "df.head(10)\n",
    "\n",
    "# Encode categorical variables with LabelEncoder\n",
    "encoder = LabelEncoder()\n",
    "df['Location'] = encoder.fit_transform(df['Location'])\n",
    "df['Property Type'] = encoder.fit_transform(df['Property Type'])\n",
    "df['Position'] = encoder.fit_transform(df['Position'])\n",
    "df['Furnishing'] = encoder.fit_transform(df['Furnishing'])\n",
    "\n",
    "# features (X) and target variable (y)\n",
    "X = df.drop(columns=['Price'])\n",
    "y = df['Price']\n",
    "\n",
    "# Compute mutual information scores\n",
    "mi_scores = mutual_info_classif(X, y)\n",
    "\n",
    "# Print feature importance scores\n",
    "for feature, score in zip(X.columns, mi_scores):\n",
    "    print(f\"{feature}: {score:.4f}\")\n",
    "\n",
    "\n",
    "feat_importances = pd.Series(mi_scores, X.columns[0:len(df.columns)])\n",
    "feat_importances.plot(kind='barh', color = 'teal')\n",
    "plt.show()"
   ]
  },
  {
   "cell_type": "code",
   "execution_count": 181,
   "id": "4c154d7b",
   "metadata": {},
   "outputs": [],
   "source": [
    "X = df[['Location', 'Rooms', 'Property Type', 'Size','Bathrooms']]\n",
    "y = df['Price']"
   ]
  },
  {
   "cell_type": "code",
   "execution_count": 190,
   "id": "57c04213",
   "metadata": {},
   "outputs": [
    {
     "data": {
      "text/plain": [
       "Index(['Location', 'Price', 'Rooms', 'Bathrooms', 'Car Parks', 'No of Storey',\n",
       "       'Property Type', 'Position', 'Size', 'Furnishing'],\n",
       "      dtype='object')"
      ]
     },
     "execution_count": 190,
     "metadata": {},
     "output_type": "execute_result"
    }
   ],
   "source": [
    "df.columns "
   ]
  },
  {
   "cell_type": "code",
   "execution_count": 182,
   "id": "cf226466",
   "metadata": {},
   "outputs": [],
   "source": [
    "def regressionMethods(x, y, regressionObject):\n",
    "  train_x, test_x, train_y, test_y= train_test_split(x,y,test_size=0.1, random_state=1)\n",
    "  regressionObject.fit(train_x, train_y)\n",
    "  predict_test=regressionObject.predict(test_x)\n",
    "  df_m=pd.DataFrame({'features':x.columns,'coeff':regressionObject.coef_})\n",
    "  df_m=df_m.sort_values(by=['coeff'])\n",
    "  df_m.plot(x='features', y='coeff', kind='bar', figsize=(15,10))\n",
    "  plt.show()\n",
    "  print(\"RSquare Value for TEST data is : \",  np.round(regressionObject.score(test_x, test_y)*100, 0))\n",
    "  print(\"RSquare Value for TRAIN data is : \", np.round(regressionObject.score(train_x, train_y)*100, 0))\n",
    "  print(\"MSE for Test data is : \",np.round(metrics.mean_squared_error(test_y, predict_test), 0))\n",
    "  print(\"MAE for Test data is : \",np.round(metrics.mean_absolute_error(test_y, predict_test), 0))"
   ]
  },
  {
   "cell_type": "code",
   "execution_count": 183,
   "id": "2b11cb08",
   "metadata": {},
   "outputs": [],
   "source": [
    "import sklearn\n",
    "import seaborn as sns\n",
    "import sklearn\n",
    "from sklearn.model_selection import cross_validate\n",
    "from sklearn.model_selection import train_test_split\n",
    "from sklearn import metrics\n",
    "import matplotlib.pyplot as plt\n",
    "%matplotlib inline\n"
   ]
  },
  {
   "cell_type": "code",
   "execution_count": 184,
   "id": "8f67ba27",
   "metadata": {},
   "outputs": [
    {
     "data": {
      "image/png": "[encoded data removed]",
      "text/plain": [
       "<Figure size 1500x1000 with 1 Axes>"
      ]
     },
     "metadata": {},
     "output_type": "display_data"
    },
    {
     "name": "stdout",
     "output_type": "stream",
     "text": [
      "RSquare Value for TEST data is :  15.0\n",
      "RSquare Value for TRAIN data is :  1.0\n",
      "MSE for Test data is :  21994696344368.0\n",
      "MAE for Test data is :  1417439.0\n"
     ]
    }
   ],
   "source": [
    "from sklearn.linear_model import LinearRegression\n",
    "\n",
    "lm=LinearRegression()\n",
    "regressionMethods(X, y, lm)"
   ]
  },
  {
   "cell_type": "code",
   "execution_count": 195,
   "id": "6c2d3612",
   "metadata": {},
   "outputs": [
    {
     "name": "stdout",
     "output_type": "stream",
     "text": [
      "RSquare Value for TEST data is: 74.27\n",
      "RSquare Value for Train data is: 78.27\n",
      "MSE for Test data is: 9.214106086108769e-05\n",
      "MAE for Test data is: 0.0009160378917863776\n"
     ]
    }
   ],
   "source": [
    "from sklearn.preprocessing import Normalizer\n",
    "from sklearn.linear_model import LinearRegression\n",
    "\n",
    "scaler = Normalizer()\n",
    "unit_scaled_data = scaler.fit_transform(df)\n",
    "\n",
    "# Separate features (X) and target variable (y)\n",
    "# Index 0:'Location', 1:'Price', 2'Rooms', 3:'Bathrooms', 4:'Car Parks', 5:'No of Storey',\n",
    "#6:'Property Type', 7:'Position', 8:'Size', 9:'Furnishing'\n",
    "columns_to_keep = [0, 2, 3, 6, 8]\n",
    "X_normalized = unit_scaled_data[:, columns_to_keep]\n",
    "Y_normalized = unit_scaled_data[:, 1]\n",
    "\n",
    "# Splitting the data into train and test sets\n",
    "train_x, test_x, train_y, test_y = train_test_split(X_normalized, Y_normalized, test_size=0.25, random_state=1)\n",
    "\n",
    "# Training the model\n",
    "regressionObject = LinearRegression()\n",
    "regressionObject.fit(train_x, train_y)\n",
    "\n",
    "# Predicting on the test set\n",
    "predict_test = regressionObject.predict(test_x)\n",
    "\n",
    "# Calculating evaluation metrics\n",
    "r_square_test = regressionObject.score(test_x, test_y)\n",
    "r_square_train = regressionObject.score(train_x, train_y)\n",
    "mse_test = metrics.mean_squared_error(test_y, predict_test)\n",
    "mae_test = metrics.mean_absolute_error(test_y, predict_test)\n",
    "\n",
    "# Printing the results\n",
    "print(\"RSquare Value for TEST data is:\", np.round(r_square_test * 100, 2))\n",
    "print(\"RSquare Value for Train data is:\", np.round(r_square_train * 100, 2))\n",
    "print(\"MSE for Test data is:\", mse_test)\n",
    "print(\"MAE for Test data is:\", mae_test)"
   ]
  },
  {
   "cell_type": "code",
   "execution_count": 196,
   "id": "b83de57b",
   "metadata": {},
   "outputs": [
    {
     "data": {
      "image/png": "[encoded data removed]",
      "text/plain": [
       "<Figure size 1500x1000 with 1 Axes>"
      ]
     },
     "metadata": {},
     "output_type": "display_data"
    }
   ],
   "source": [
    "x1 = pd.DataFrame(X_normalized)\n",
    "\n",
    "df_m=pd.DataFrame({'features':x1.columns,'coeff':regressionObject.coef_})\n",
    "df_m=df_m.sort_values(by=['coeff'])\n",
    "df_m.plot(x='features', y='coeff', kind='bar', figsize=(15,10))\n",
    "plt.show()"
   ]
  },
  {
   "cell_type": "code",
   "execution_count": 193,
   "id": "730a9298",
   "metadata": {},
   "outputs": [
    {
     "name": "stdout",
     "output_type": "stream",
     "text": [
      "RSquare Value for TEST data is: 75.57\n",
      "RSquare Value for Train data is: 80.11\n",
      "MSE for Test data is: 8.747448031938856e-05\n",
      "MAE for Test data is: 0.0009243186021915487\n"
     ]
    }
   ],
   "source": [
    "from sklearn.preprocessing import Normalizer\n",
    "\n",
    "scaler = Normalizer()\n",
    "unit_scaled_data = scaler.fit_transform(df)\n",
    "\n",
    "# Separate features (X) and target variable (y)\n",
    "# All the fields 'Location', 'Rooms', 'Car Parks', 'No of Storey', 'Property Type','Position', 'Size', 'Furnishing', 'Bathrooms'\n",
    "columns_to_keep = [0, 2, 3, 4, 5, 6, 7, 8, 9]\n",
    "X_normalized = unit_scaled_data[:, columns_to_keep]\n",
    "Y_normalized = unit_scaled_data[:, 1]\n",
    "\n",
    "# Splitting the data into train and test sets\n",
    "train_x, test_x, train_y, test_y = train_test_split(X_normalized, Y_normalized, test_size=0.25, random_state=1)\n",
    "\n",
    "# Training the model\n",
    "regressionObject = LinearRegression()\n",
    "regressionObject.fit(train_x, train_y)\n",
    "\n",
    "# Predicting on the test set\n",
    "predict_test = regressionObject.predict(test_x)\n",
    "\n",
    "# Calculating evaluation metrics\n",
    "r_square_test = regressionObject.score(test_x, test_y)\n",
    "r_square_train = regressionObject.score(train_x, train_y)\n",
    "mse_test = metrics.mean_squared_error(test_y, predict_test)\n",
    "mae_test = metrics.mean_absolute_error(test_y, predict_test)\n",
    "\n",
    "# Printing the results\n",
    "print(\"RSquare Value for TEST data is:\", np.round(r_square_test * 100, 2))\n",
    "print(\"RSquare Value for Train data is:\", np.round(r_square_train * 100, 2))\n",
    "print(\"MSE for Test data is:\", mse_test)\n",
    "print(\"MAE for Test data is:\", mae_test)\n",
    "\n"
   ]
  },
  {
   "cell_type": "code",
   "execution_count": 192,
   "id": "4f862dce",
   "metadata": {},
   "outputs": [
    {
     "name": "stdout",
     "output_type": "stream",
     "text": [
      "RSquare Value for TEST data is: 74.12\n",
      "RSquare Value for Train data is: 78.24\n",
      "MSE for Test data is: 9.266959911401033e-05\n",
      "MAE for Test data is: 0.0009173275039878108\n"
     ]
    }
   ],
   "source": [
    "from sklearn.preprocessing import Normalizer\n",
    "\n",
    "scaler = Normalizer()\n",
    "unit_scaled_data = scaler.fit_transform(df)\n",
    "\n",
    "# Separate features (X) and target variable (y)\n",
    "# Index 0 = Location, 6: 'Property Type', 8: 'Size', 3: 'Bathrooms' -- 3 variables\n",
    "columns_to_keep = [0, 6, 8, 3]\n",
    "X_normalized = unit_scaled_data[:, columns_to_keep]\n",
    "Y_normalized = unit_scaled_data[:, 1]\n",
    "\n",
    "# Splitting the data into train and test sets\n",
    "train_x, test_x, train_y, test_y = train_test_split(X_normalized, Y_normalized, test_size=0.25, random_state=1)\n",
    "\n",
    "# Training the model\n",
    "regressionObject = LinearRegression()\n",
    "regressionObject.fit(train_x, train_y)\n",
    "\n",
    "# Predicting on the test set\n",
    "predict_test = regressionObject.predict(test_x)\n",
    "\n",
    "# Calculating evaluation metrics\n",
    "r_square_test = regressionObject.score(test_x, test_y)\n",
    "r_square_train = regressionObject.score(train_x, train_y)\n",
    "mse_test = metrics.mean_squared_error(test_y, predict_test)\n",
    "mae_test = metrics.mean_absolute_error(test_y, predict_test)\n",
    "\n",
    "# Printing the results\n",
    "print(\"RSquare Value for TEST data is:\", np.round(r_square_test * 100, 2))\n",
    "print(\"RSquare Value for Train data is:\", np.round(r_square_train * 100, 2))\n",
    "print(\"MSE for Test data is:\", mse_test)\n",
    "print(\"MAE for Test data is:\", mae_test)"
   ]
  },
  {
   "cell_type": "code",
   "execution_count": 104,
   "id": "d55ef44d",
   "metadata": {},
   "outputs": [
    {
     "name": "stdout",
     "output_type": "stream",
     "text": [
      "RSquare Value for TEST data is: 71.02\n",
      "RSquare Value for Train data is: 77.25\n",
      "MSE for Test data is: 4.8484334165190275e-05\n",
      "MAE for Test data is: 0.0009272213122605091\n"
     ]
    }
   ],
   "source": [
    "from sklearn.preprocessing import Normalizer\n",
    "\n",
    "scaler = Normalizer()\n",
    "unit_scaled_data = scaler.fit_transform(df)\n",
    "\n",
    "# Separate features (X) and target variable (y)\n",
    "# All the fields 'Location', 'Rooms', 'Car Parks', 'Property Type', 'Size', 'Bathrooms'\n",
    "columns_to_keep = [0, 2, 3, 4, 5, 7]\n",
    "X_normalized = unit_scaled_data[:, columns_to_keep]\n",
    "Y_normalized = unit_scaled_data[:, 1]\n",
    "\n",
    "# Splitting the data into train and test sets\n",
    "train_x, test_x, train_y, test_y = train_test_split(X_normalized, Y_normalized, test_size=0.25, random_state=1)\n",
    "\n",
    "# Training the model\n",
    "regressionObject = LinearRegression()\n",
    "regressionObject.fit(train_x, train_y)\n",
    "\n",
    "# Predicting on the test set\n",
    "predict_test = regressionObject.predict(test_x)\n",
    "\n",
    "# Calculating evaluation metrics\n",
    "r_square_test = regressionObject.score(test_x, test_y)\n",
    "r_square_train = regressionObject.score(train_x, train_y)\n",
    "mse_test = metrics.mean_squared_error(test_y, predict_test)\n",
    "mae_test = metrics.mean_absolute_error(test_y, predict_test)\n",
    "\n",
    "# Printing the results\n",
    "print(\"RSquare Value for TEST data is:\", np.round(r_square_test * 100, 2))\n",
    "print(\"RSquare Value for Train data is:\", np.round(r_square_train * 100, 2))\n",
    "print(\"MSE for Test data is:\", mse_test)\n",
    "print(\"MAE for Test data is:\", mae_test)"
   ]
  },
  {
   "cell_type": "code",
   "execution_count": 200,
   "id": "2bfba186",
   "metadata": {},
   "outputs": [
    {
     "name": "stdout",
     "output_type": "stream",
     "text": [
      "RSquare Value for TEST data is: 71.48\n",
      "RSquare Value for Train data is: 76.4\n",
      "MSE for Test data is: 0.00010212654326180306\n",
      "MAE for Test data is: 0.0009759306241680523\n"
     ]
    }
   ],
   "source": [
    "from sklearn.preprocessing import Normalizer\n",
    "from sklearn.linear_model import LinearRegression\n",
    "\n",
    "scaler = Normalizer()\n",
    "unit_scaled_data = scaler.fit_transform(df)\n",
    "\n",
    "# Separate features (X) and target variable (y)\n",
    "# Index 0:'Location', 1:'Price', 2'Rooms', 3:'Bathrooms', 4:'Car Parks', 5:'No of Storey',\n",
    "#6:'Property Type', 7:'Position', 8:'Size', 9:'Furnishing'\n",
    "columns_to_keep = [0, 2, 8]\n",
    "X_normalized = unit_scaled_data[:, columns_to_keep]\n",
    "Y_normalized = unit_scaled_data[:, 1]\n",
    "\n",
    "# Splitting the data into train and test sets\n",
    "train_x, test_x, train_y, test_y = train_test_split(X_normalized, Y_normalized, test_size=0.25, random_state=1)\n",
    "\n",
    "# Training the model\n",
    "regressionObject = LinearRegression()\n",
    "regressionObject.fit(train_x, train_y)\n",
    "\n",
    "# Predicting on the test set\n",
    "predict_test = regressionObject.predict(test_x)\n",
    "\n",
    "# Calculating evaluation metrics\n",
    "r_square_test = regressionObject.score(test_x, test_y)\n",
    "r_square_train = regressionObject.score(train_x, train_y)\n",
    "mse_test = metrics.mean_squared_error(test_y, predict_test)\n",
    "mae_test = metrics.mean_absolute_error(test_y, predict_test)\n",
    "\n",
    "# Printing the results\n",
    "print(\"RSquare Value for TEST data is:\", np.round(r_square_test * 100, 2))\n",
    "print(\"RSquare Value for Train data is:\", np.round(r_square_train * 100, 2))\n",
    "print(\"MSE for Test data is:\", mse_test)\n",
    "print(\"MAE for Test data is:\", mae_test)"
   ]
  },
  {
   "cell_type": "code",
   "execution_count": 201,
   "id": "55a14fdf",
   "metadata": {},
   "outputs": [
    {
     "name": "stdout",
     "output_type": "stream",
     "text": [
      "RSquare Value for TEST data is: 74.05\n",
      "RSquare Value for Train data is: 77.97\n",
      "MSE for Test data is: 9.293022174000378e-05\n",
      "MAE for Test data is: 0.0009281024975466444\n"
     ]
    }
   ],
   "source": [
    "from sklearn.preprocessing import Normalizer\n",
    "from sklearn.linear_model import LinearRegression\n",
    "\n",
    "scaler = Normalizer()\n",
    "unit_scaled_data = scaler.fit_transform(df)\n",
    "\n",
    "# Separate features (X) and target variable (y)\n",
    "# Index 0:'Location', 1:'Price', 2'Rooms', 3:'Bathrooms', 4:'Car Parks', 5:'No of Storey',\n",
    "#6:'Property Type', 7:'Position', 8:'Size', 9:'Furnishing'\n",
    "columns_to_keep = [0, 2, 3, 8]\n",
    "X_normalized = unit_scaled_data[:, columns_to_keep]\n",
    "Y_normalized = unit_scaled_data[:, 1]\n",
    "\n",
    "# Splitting the data into train and test sets\n",
    "train_x, test_x, train_y, test_y = train_test_split(X_normalized, Y_normalized, test_size=0.25, random_state=1)\n",
    "\n",
    "# Training the model\n",
    "regressionObject = LinearRegression()\n",
    "regressionObject.fit(train_x, train_y)\n",
    "\n",
    "# Predicting on the test set\n",
    "predict_test = regressionObject.predict(test_x)\n",
    "\n",
    "# Calculating evaluation metrics\n",
    "r_square_test = regressionObject.score(test_x, test_y)\n",
    "r_square_train = regressionObject.score(train_x, train_y)\n",
    "mse_test = metrics.mean_squared_error(test_y, predict_test)\n",
    "mae_test = metrics.mean_absolute_error(test_y, predict_test)\n",
    "\n",
    "# Printing the results\n",
    "print(\"RSquare Value for TEST data is:\", np.round(r_square_test * 100, 2))\n",
    "print(\"RSquare Value for Train data is:\", np.round(r_square_train * 100, 2))\n",
    "print(\"MSE for Test data is:\", mse_test)\n",
    "print(\"MAE for Test data is:\", mae_test)"
   ]
  },
  {
   "cell_type": "code",
   "execution_count": null,
   "id": "3567295e",
   "metadata": {},
   "outputs": [],
   "source": []
  }
 ],
 "metadata": {
  "kernelspec": {
   "display_name": "Python 3 (ipykernel)",
   "language": "python",
   "name": "python3"
  },
  "language_info": {
   "codemirror_mode": {
    "name": "ipython",
    "version": 3
   },
   "file_extension": ".py",
   "mimetype": "text/x-python",
   "name": "python",
   "nbconvert_exporter": "python",
   "pygments_lexer": "ipython3",
   "version": "3.11.5"
  }
 },
 "nbformat": 4,
 "nbformat_minor": 5
}
